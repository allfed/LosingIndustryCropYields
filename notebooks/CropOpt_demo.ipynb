{
 "cells": [
  {
   "cell_type": "markdown",
   "id": "south-membrane",
   "metadata": {},
   "source": [
    "The purpose of this file is to generate yields for spring wheat and spring barley, along with nutrition, and spits out a couple plots and a csv file at the end of the file. I can't emphasize enough that you should take a look at Params.ods  to understand the inputs to the model. Params.ods is a spreadsheet, you can open it with excel or open office. Also reach out to morgan@allfed.info if you have questions about this code.\n",
    "\n",
    "First, let's import a few dependencies. \n",
    " * Params: Custom script which imports parameters from Params.ods file\n",
    "     * Params.ods is as spreadsheet file located here: https://github.com/allfed/CropOpt/Params.ods\n",
    "     * based on Adin's collaboration document here: https://docs.google.com/spreadsheets/d/1Mh7bmZYHypN7bSmejCyu4hkbolQ3MRANc3LhflwRZoA/edit#gid=0\n",
    " * Plotter: utility for displaying geopandas maps and plots\n",
    " * pandas, geopandas: Data analysis and GIS packages\n",
    "     * some basic things you can do with pandas: https://pandas.pydata.org/docs/getting_started/intro_tutorials/03_subset_data.html\n",
    "     * some basic things you can do with geopandas: https://geopandas.org/getting_started/introduction.html\n",
    "     \n",
    " * OutdoorGrowth: Custom class which contains several useful functions for outdoor growth calculations\n",
    "     * if you want to understand what the model is doing to calculate yields, you need to read through OutdoorGrowth code, located here:https://github.com/allfed/CropOpt/tree/master/Modules"
   ]
  },
  {
   "cell_type": "code",
   "execution_count": null,
   "id": "accompanied-aquarium",
   "metadata": {},
   "outputs": [],
   "source": [
    "import Params \n",
    "Params.importAll()\n",
    "from Plotter import Plotter\n",
    "\n",
    "import pandas as pd\n",
    "import geopandas as gpd\n",
    "\n",
    "import Modules.OutdoorGrowth\n",
    "from Modules.OutdoorGrowth import OutdoorGrowth\n"
   ]
  },
  {
   "cell_type": "markdown",
   "id": "included-license",
   "metadata": {},
   "source": [
    "Now, let's import a bunch of previously created geopandas datasets"
   ]
  },
  {
   "cell_type": "code",
   "execution_count": null,
   "id": "dimensional-monthly",
   "metadata": {
    "scrolled": true
   },
   "outputs": [],
   "source": [
    "#total solar flux at surface , W/m^2\n",
    "fsns=pd.read_pickle(Params.geopandasDataDir+'FSNS.pkl')\n",
    "\n",
    "#surface temperature, K\n",
    "ts=pd.read_pickle(Params.geopandasDataDir+'TS.pkl')\n",
    "\n",
    "#Large-scale (stable) precipitation rate, including ice precipitate but not \n",
    "#snow, m/s\n",
    "precl=pd.read_pickle(Params.geopandasDataDir+'PRECL.pkl')\n",
    "\n",
    "#absolute humidity at surface, kg/kg\n",
    "q=pd.read_pickle(Params.geopandasDataDir+'Q.pkl')\n",
    "\n",
    "#crop area, Ha\n",
    "growArea=pd.read_pickle(Params.geopandasDataDir+'CropGrowHectares.pkl')\n"
   ]
  },
  {
   "cell_type": "markdown",
   "id": "governing-processing",
   "metadata": {},
   "source": [
    "Taking a look at sun, temperature, and rain, we see latitude and longitude, each month after the winter is defined in a column, and the cell geometry is displayed (in this case, a 2 degree by 2 degree square). The first few cells are all at the south pole, so it's unsurprising that they show strange values.\n",
    "\n",
    "The default months in the Params.ods are May year 5- April year 6 (first and second year of simulation). \n",
    "\n",
    "The average temperature coefficient hottest consecutive months required to grow each crop in each region are used to estimate temperature and rainfall growth parameters.\n",
    "\n",
    "There's an issue with the import for april of year six, for temperature. "
   ]
  },
  {
   "cell_type": "code",
   "execution_count": null,
   "id": "killing-nevada",
   "metadata": {},
   "outputs": [],
   "source": [
    "fsns.head() #sun, W/m^2"
   ]
  },
  {
   "cell_type": "code",
   "execution_count": null,
   "id": "higher-loading",
   "metadata": {},
   "outputs": [],
   "source": [
    "ts.head() #temp, kelvin"
   ]
  },
  {
   "cell_type": "code",
   "execution_count": null,
   "id": "lyric-phoenix",
   "metadata": {},
   "outputs": [],
   "source": [
    "precl.head() #rain, average m/s over the month"
   ]
  },
  {
   "cell_type": "markdown",
   "id": "colonial-vertex",
   "metadata": {},
   "source": [
    "The grow area is shown below using hectares. Note it is only calculated for one month as it's assumed to be unchanging for now."
   ]
  },
  {
   "cell_type": "code",
   "execution_count": null,
   "id": "pleasant-folder",
   "metadata": {},
   "outputs": [],
   "source": [
    "growArea.head()"
   ]
  },
  {
   "cell_type": "code",
   "execution_count": null,
   "id": "given-crystal",
   "metadata": {},
   "outputs": [],
   "source": [
    "q.head()"
   ]
  },
  {
   "cell_type": "markdown",
   "id": "mineral-mother",
   "metadata": {},
   "source": [
    "Let's also look at the values for some of the Params.ods variable values. It's important to be able to modify these if you want to be able to improve the cropOpt model. Make sure to restart the Jupyter kernel to reimport changes to params variables. The code below is looping through all the cells and all the months, so it might take a few minutes, depending on your machine.\n",
    "\n",
    "Again, there appear to be issues with april of year 6 (second year of winter), and also possibly september year 5 (first year of winter)."
   ]
  },
  {
   "cell_type": "code",
   "execution_count": null,
   "id": "interim-outdoors",
   "metadata": {},
   "outputs": [],
   "source": [
    "allMonths=Params.allMonths\n",
    "\n",
    "#initialize object of outdoor growth class\n",
    "outdoorGrowth=OutdoorGrowth()"
   ]
  },
  {
   "cell_type": "code",
   "execution_count": null,
   "id": "geological-original",
   "metadata": {},
   "outputs": [],
   "source": [
    "plotYields=True\n",
    "yields=outdoorGrowth.estimateYields(ts,precl,growArea,plotYields)"
   ]
  },
  {
   "cell_type": "markdown",
   "id": "welsh-latvia",
   "metadata": {},
   "source": [
    "Plots above are saved here: https://github.com/allfed/CropOpt/tree/master/Data/Figures"
   ]
  },
  {
   "cell_type": "markdown",
   "id": "proud-farmer",
   "metadata": {},
   "source": [
    "Below, we generate the remaining plots of the figures for all months of the simulation. This will take several minutes to run. To disable some of the plots, you can set the booleans plotGrowArea,plotsun,plotTemp,plotRain,or plotHum to false."
   ]
  },
  {
   "cell_type": "code",
   "execution_count": null,
   "id": "parliamentary-trading",
   "metadata": {},
   "outputs": [],
   "source": [
    "plotSun=True\n",
    "plotTemp=True\n",
    "plotRain=True\n",
    "plotHum=True\n",
    "\n",
    "print('Producing Sun Figures')\n",
    "for month in allMonths:\n",
    "\ttitle=\"Solar Flux at Surface, month \"+month\n",
    "\tlegendlabel=\"Solar Flux (W/m^2)\"\n",
    "\tfn=\"SolarFlux\"+month\n",
    "\tPlotter.plotMap(fsns,month,title,legendlabel,fn,plotSun)\n",
    "\n",
    "print('Producing Temp Figures')\n",
    "for month in allMonths:\n",
    "\ttitle=\"Surface (radiative) Temperature, month \"+month\n",
    "\tlegendlabel=\"Temperature (K)\"\n",
    "\tfn=\"SurfaceTemp\"+month\n",
    "\tPlotter.plotMap(ts,month,title,legendlabel,fn,plotTemp)\n",
    "\n",
    "print('Producing Rain Figures')\n",
    "for month in allMonths:\n",
    "\ttitle=\"Precipitation \"+month\n",
    "\tlegendlabel=\"Precipitation (m/s)\"\n",
    "\tfn=\"Precipitation\"+month\n",
    "\tPlotter.plotMap(precl,month,title,legendlabel,fn,plotRain)\n",
    "\n",
    "print('Producing Humidity Figures')\n",
    "for month in allMonths:\n",
    "\ttitle=\"Humidity \"+month\n",
    "\tlegendlabel=\"Humidity (kg/kg)\"\n",
    "\tfn=\"Humidity\"+month\n",
    "\tPlotter.plotMap(q,month,title,legendlabel,fn,plotHum)\n"
   ]
  },
  {
   "cell_type": "markdown",
   "id": "anticipated-adventure",
   "metadata": {},
   "source": [
    "Plots above are saved here: https://github.com/allfed/CropOpt/tree/master/Data/Figures\n",
    "\n",
    "If you're interested in reproducing a CSV of many of the variables, you can call the function below:"
   ]
  },
  {
   "cell_type": "code",
   "execution_count": null,
   "id": "fifth-updating",
   "metadata": {},
   "outputs": [],
   "source": [
    "outdoorGrowth.saveLandSunHumRainCSV(ts,q,fsns,precl,growArea)"
   ]
  }
 ],
 "metadata": {
  "kernelspec": {
   "display_name": "Python 3",
   "language": "python",
   "name": "python3"
  },
  "language_info": {
   "codemirror_mode": {
    "name": "ipython",
    "version": 3
   },
   "file_extension": ".py",
   "mimetype": "text/x-python",
   "name": "python",
   "nbconvert_exporter": "python",
   "pygments_lexer": "ipython3",
   "version": "3.8.5"
  }
 },
 "nbformat": 4,
 "nbformat_minor": 5
}
