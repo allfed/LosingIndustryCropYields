{
 "cells": [
  {
   "cell_type": "markdown",
   "metadata": {
    "colab_type": "text",
    "id": "view-in-github"
   },
   "source": [
    "<a href=\"https://colab.research.google.com/github/allfed/CropOpt/blob/standardize/notebooks/yield_demo.ipynb\" target=\"_parent\"><img src=\"https://colab.research.google.com/assets/colab-badge.svg\" alt=\"Open In Colab\"/></a>"
   ]
  },
  {
   "cell_type": "markdown",
   "metadata": {
    "id": "EF4HZ38K9CWc"
   },
   "source": [
    "# Setup (only run this section if using Colab)"
   ]
  },
  {
   "cell_type": "code",
   "execution_count": null,
   "metadata": {
    "id": "IzDrJNUQ7OMm",
    "scrolled": true
   },
   "outputs": [],
   "source": [
    "# We must clone the code repo into your Colab environment in order to use it.\n",
    "# To do this we must first connect your GitHub account via this online command line.\n",
    "# Run this block, and hit Enter on each prompt, not entering any text.\n",
    "# This generates an SSH key which you'll add to your GitHub account.\n",
    "!ssh-keygen -t rsa -b 4096"
   ]
  },
  {
   "cell_type": "code",
   "execution_count": null,
   "metadata": {
    "id": "dCB7z9UI8qpo"
   },
   "outputs": [],
   "source": [
    "!ssh-keyscan -t rsa github.com >> /root/.ssh/known_hosts"
   ]
  },
  {
   "cell_type": "code",
   "execution_count": null,
   "metadata": {
    "id": "0vBrKY4E7YcJ"
   },
   "outputs": [],
   "source": [
    "# This line prints the key. Copy the key to your clipboard.\n",
    "!cat /root/.ssh/id_rsa.pub"
   ]
  },
  {
   "cell_type": "code",
   "execution_count": null,
   "metadata": {
    "id": "lUAL7sgQ7YP2"
   },
   "outputs": [],
   "source": [
    "# Now, navigate to https://github.com/settings/keys and click \"New SSH key\"\n",
    "# Copy paste the above into the \"Key\" field, and give it a title, e.g. \"Colab key\",\n",
    "# then save the key. Once done, test using this line:\n",
    "!ssh -T git@github.com"
   ]
  },
  {
   "cell_type": "code",
   "execution_count": null,
   "metadata": {
    "id": "LfMd3MDk68Ao"
   },
   "outputs": [],
   "source": [
    "## Now we can clone the repo using SSH\n",
    "!rm -rf CropOpt/\n",
    "!git clone -b standardize git@github.com:allfed/CropOpt.git"
   ]
  },
  {
   "cell_type": "code",
   "execution_count": null,
   "metadata": {
    "id": "kIbtwVp1Epqf"
   },
   "outputs": [],
   "source": [
    "# This adds the Python files in our CropOpt repo to our path so we can import\n",
    "# them\n",
    "\n",
    "import os\n",
    "import sys\n",
    "\n",
    "module_path = os.path.abspath(os.path.join('./CropOpt'))\n",
    "if module_path not in sys.path:\n",
    "    sys.path.append(module_path) "
   ]
  },
  {
   "cell_type": "code",
   "execution_count": null,
   "metadata": {
    "id": "t5cQ7Vpu-okC"
   },
   "outputs": [],
   "source": [
    "# Now we'll install other dependencies from our Poetry file. We do this by first\n",
    "# installing the toml package so we can read the pyproject.toml file\n",
    "!pip install toml"
   ]
  },
  {
   "cell_type": "code",
   "execution_count": null,
   "metadata": {
    "id": "7FWKkIMMMJ6j"
   },
   "outputs": [],
   "source": [
    "# We then load the file and read our required packages from it\n",
    "import toml\n",
    "config = toml.load(\"CropOpt/pyproject.toml\")\n",
    "pip_packages = config[\"tool\"][\"poetry\"][\"dependencies\"]"
   ]
  },
  {
   "cell_type": "code",
   "execution_count": null,
   "metadata": {
    "id": "_6m7JHEANNcK"
   },
   "outputs": [],
   "source": [
    "# Finally, we install the packages\n",
    "\n",
    "import subprocess\n",
    "import sys\n",
    "\n",
    "def install_pip_package(package, version):\n",
    "    subprocess.check_call([sys.executable, \"-m\", \"pip\", \"install\", f\"{package}=={version}\"])\n",
    "\n",
    "for package, version in pip_packages.items():\n",
    "    if package == \"python\":\n",
    "        continue\n",
    "    install_pip_package(package, version[1:])"
   ]
  },
  {
   "cell_type": "markdown",
   "metadata": {},
   "source": [
    "# End of Colab-specific setup"
   ]
  },
  {
   "cell_type": "markdown",
   "metadata": {
    "id": "_0qfpqXB4b_j"
   },
   "source": [
    "# Yield calculation demo"
   ]
  },
  {
   "cell_type": "markdown",
   "metadata": {
    "id": "EEL1Pg_54jfe"
   },
   "source": [
    "The purpose of this file is to generate yields for spring wheat and spring barley, along with nutrition, and spits out a couple plots and a csv file at the end of the file. I can't emphasize enough that you should take a look at Params.ods  to understand the inputs to the model. Params.ods is a spreadsheet, you can open it with excel or open office. Also reach out to morgan@allfed.info if you have questions about this code.\n",
    "\n",
    "First, let's import a few dependencies. \n",
    " * Params: Custom script which imports parameters from Params.ods file\n",
    "     * Params.ods is as spreadsheet file located here: https://github.com/allfed/CropOpt/Params.ods\n",
    "     * based on Adin's collaboration document here: https://docs.google.com/spreadsheets/d/1Mh7bmZYHypN7bSmejCyu4hkbolQ3MRANc3LhflwRZoA/edit#gid=0\n",
    " * Plotter: utility for displaying geopandas maps and plots\n",
    " * pandas, geopandas: Data analysis and GIS packages\n",
    "     * some basic things you can do with pandas: https://pandas.pydata.org/docs/getting_started/intro_tutorials/03_subset_data.html\n",
    "     * some basic things you can do with geopandas: https://geopandas.org/getting_started/introduction.html\n",
    "     \n",
    " * OutdoorGrowth: Custom class which contains several useful functions for outdoor growth calculations\n",
    "     * if you want to understand what the model is doing to calculate yields, you need to read through OutdoorGrowth code, located here:https://github.com/allfed/CropOpt/tree/master/Modules"
   ]
  },
  {
   "cell_type": "code",
   "execution_count": 1,
   "metadata": {
    "id": "KuZI2xuaP3Dh"
   },
   "outputs": [],
   "source": [
    "import os\n",
    "import sys\n",
    "module_path = os.path.abspath(os.path.join('..'))\n",
    "if module_path not in sys.path:\n",
    "    sys.path.append(module_path)"
   ]
  },
  {
   "cell_type": "code",
   "execution_count": 2,
   "metadata": {
    "id": "WLnjHxAy4JPE"
   },
   "outputs": [
    {
     "name": "stdout",
     "output_type": "stream",
     "text": [
      "dir_path\n",
      "/home/dmrivers/Code/CropOpt/src\n"
     ]
    }
   ],
   "source": [
    "from src import params\n",
    "from src.plotter import Plotter\n",
    "from src import outdoor_growth\n",
    "from src.outdoor_growth import OutdoorGrowth\n",
    "import pandas as pd\n",
    "import geopandas as gpd"
   ]
  },
  {
   "cell_type": "markdown",
   "metadata": {
    "id": "ryY13Hp0P3Di"
   },
   "source": [
    "Now, let's import a bunch of previously created geopandas datasets"
   ]
  },
  {
   "cell_type": "code",
   "execution_count": 3,
   "metadata": {
    "id": "9-N4WzdX6vmc"
   },
   "outputs": [],
   "source": [
    "params.importAll()\n",
    "\n",
    "\n",
    "# NOTE - params.geopandasDataDir should add the appropriate root directory location\n",
    "# to all the directories, whether in colab or on your local machine\n",
    "\n",
    "#total solar flux at surface , W/m^2\n",
    "fsns=pd.read_pickle(params.geopandasDataDir + 'FSNS.pkl')\n",
    "\n",
    "#surface temperature, K\n",
    "ts=pd.read_pickle(params.geopandasDataDir+'TS.pkl')\n",
    "\n",
    "#Large-scale (stable) precipitation rate, including ice precipitate but not \n",
    "#snow, m/s\n",
    "precl=pd.read_pickle(params.geopandasDataDir+'PRECL.pkl')\n",
    "\n",
    "#absolute humidity at surface, kg/kg\n",
    "q=pd.read_pickle(params.geopandasDataDir+'Q.pkl')\n",
    "\n",
    "#crop area, Ha\n",
    "growArea=pd.read_pickle(params.geopandasDataDir+'CropGrowHectares.pkl')"
   ]
  },
  {
   "cell_type": "markdown",
   "metadata": {
    "id": "GI1y6EHRP3Di"
   },
   "source": [
    "Taking a look at sun, temperature, and rain, we see latitude and longitude, each month after the winter is defined in a column, and the cell geometry is displayed (in this case, a 2 degree by 2 degree square). The first few cells are all at the south pole, so it's unsurprising that they show strange values.\n",
    "\n",
    "The default months in the Params.ods are May year 5- April year 6 (first and second year of simulation). \n",
    "\n",
    "The average temperature coefficient hottest consecutive months required to grow each crop in each region are used to estimate temperature and rainfall growth parameters.\n",
    "\n",
    "There's an issue with the import for april of year six, for temperature. "
   ]
  },
  {
   "cell_type": "code",
   "execution_count": 4,
   "metadata": {
    "id": "GYs3ynMvP3Dj"
   },
   "outputs": [
    {
     "data": {
      "text/html": [
       "<div>\n",
       "<style scoped>\n",
       "    .dataframe tbody tr th:only-of-type {\n",
       "        vertical-align: middle;\n",
       "    }\n",
       "\n",
       "    .dataframe tbody tr th {\n",
       "        vertical-align: top;\n",
       "    }\n",
       "\n",
       "    .dataframe thead th {\n",
       "        text-align: right;\n",
       "    }\n",
       "</style>\n",
       "<table border=\"1\" class=\"dataframe\">\n",
       "  <thead>\n",
       "    <tr style=\"text-align: right;\">\n",
       "      <th></th>\n",
       "      <th>lats</th>\n",
       "      <th>lons</th>\n",
       "      <th>0005-05</th>\n",
       "      <th>0005-06</th>\n",
       "      <th>0005-07</th>\n",
       "      <th>0005-08</th>\n",
       "      <th>0005-09</th>\n",
       "      <th>0005-10</th>\n",
       "      <th>0005-11</th>\n",
       "      <th>0005-12</th>\n",
       "      <th>0006-01</th>\n",
       "      <th>0006-02</th>\n",
       "      <th>0006-03</th>\n",
       "      <th>0006-04</th>\n",
       "      <th>geometry</th>\n",
       "    </tr>\n",
       "  </thead>\n",
       "  <tbody>\n",
       "    <tr>\n",
       "      <th>0</th>\n",
       "      <td>-90.0</td>\n",
       "      <td>-180.0</td>\n",
       "      <td>0.0</td>\n",
       "      <td>0.0</td>\n",
       "      <td>0.0</td>\n",
       "      <td>0.0</td>\n",
       "      <td>0.091110</td>\n",
       "      <td>8.981670</td>\n",
       "      <td>19.803129</td>\n",
       "      <td>45.104923</td>\n",
       "      <td>51.074444</td>\n",
       "      <td>21.573278</td>\n",
       "      <td>1.263111</td>\n",
       "      <td>0.0</td>\n",
       "      <td>POLYGON ((-177.50000 -90.00000, -177.50000 -88...</td>\n",
       "    </tr>\n",
       "    <tr>\n",
       "      <th>1</th>\n",
       "      <td>-90.0</td>\n",
       "      <td>-177.5</td>\n",
       "      <td>0.0</td>\n",
       "      <td>0.0</td>\n",
       "      <td>0.0</td>\n",
       "      <td>0.0</td>\n",
       "      <td>0.091316</td>\n",
       "      <td>9.011499</td>\n",
       "      <td>19.886478</td>\n",
       "      <td>45.310287</td>\n",
       "      <td>51.391033</td>\n",
       "      <td>21.682386</td>\n",
       "      <td>1.268457</td>\n",
       "      <td>0.0</td>\n",
       "      <td>POLYGON ((-175.00000 -90.00000, -175.00000 -88...</td>\n",
       "    </tr>\n",
       "    <tr>\n",
       "      <th>2</th>\n",
       "      <td>-90.0</td>\n",
       "      <td>-175.0</td>\n",
       "      <td>0.0</td>\n",
       "      <td>0.0</td>\n",
       "      <td>0.0</td>\n",
       "      <td>0.0</td>\n",
       "      <td>0.092592</td>\n",
       "      <td>9.066218</td>\n",
       "      <td>19.961117</td>\n",
       "      <td>45.563583</td>\n",
       "      <td>51.761959</td>\n",
       "      <td>21.826200</td>\n",
       "      <td>1.275466</td>\n",
       "      <td>0.0</td>\n",
       "      <td>POLYGON ((-172.50000 -90.00000, -172.50000 -88...</td>\n",
       "    </tr>\n",
       "    <tr>\n",
       "      <th>3</th>\n",
       "      <td>-90.0</td>\n",
       "      <td>-172.5</td>\n",
       "      <td>0.0</td>\n",
       "      <td>0.0</td>\n",
       "      <td>0.0</td>\n",
       "      <td>0.0</td>\n",
       "      <td>0.091346</td>\n",
       "      <td>8.990930</td>\n",
       "      <td>19.815718</td>\n",
       "      <td>45.142704</td>\n",
       "      <td>51.126923</td>\n",
       "      <td>21.593445</td>\n",
       "      <td>1.264396</td>\n",
       "      <td>0.0</td>\n",
       "      <td>POLYGON ((-170.00000 -90.00000, -170.00000 -88...</td>\n",
       "    </tr>\n",
       "    <tr>\n",
       "      <th>4</th>\n",
       "      <td>-90.0</td>\n",
       "      <td>-170.0</td>\n",
       "      <td>0.0</td>\n",
       "      <td>0.0</td>\n",
       "      <td>0.0</td>\n",
       "      <td>0.0</td>\n",
       "      <td>0.091314</td>\n",
       "      <td>8.990105</td>\n",
       "      <td>19.817955</td>\n",
       "      <td>45.147705</td>\n",
       "      <td>51.137344</td>\n",
       "      <td>21.594503</td>\n",
       "      <td>1.264395</td>\n",
       "      <td>0.0</td>\n",
       "      <td>POLYGON ((-167.50000 -90.00000, -167.50000 -88...</td>\n",
       "    </tr>\n",
       "  </tbody>\n",
       "</table>\n",
       "</div>"
      ],
      "text/plain": [
       "   lats   lons  0005-05  0005-06  0005-07  0005-08   0005-09   0005-10  \\\n",
       "0 -90.0 -180.0      0.0      0.0      0.0      0.0  0.091110  8.981670   \n",
       "1 -90.0 -177.5      0.0      0.0      0.0      0.0  0.091316  9.011499   \n",
       "2 -90.0 -175.0      0.0      0.0      0.0      0.0  0.092592  9.066218   \n",
       "3 -90.0 -172.5      0.0      0.0      0.0      0.0  0.091346  8.990930   \n",
       "4 -90.0 -170.0      0.0      0.0      0.0      0.0  0.091314  8.990105   \n",
       "\n",
       "     0005-11    0005-12    0006-01    0006-02   0006-03  0006-04  \\\n",
       "0  19.803129  45.104923  51.074444  21.573278  1.263111      0.0   \n",
       "1  19.886478  45.310287  51.391033  21.682386  1.268457      0.0   \n",
       "2  19.961117  45.563583  51.761959  21.826200  1.275466      0.0   \n",
       "3  19.815718  45.142704  51.126923  21.593445  1.264396      0.0   \n",
       "4  19.817955  45.147705  51.137344  21.594503  1.264395      0.0   \n",
       "\n",
       "                                            geometry  \n",
       "0  POLYGON ((-177.50000 -90.00000, -177.50000 -88...  \n",
       "1  POLYGON ((-175.00000 -90.00000, -175.00000 -88...  \n",
       "2  POLYGON ((-172.50000 -90.00000, -172.50000 -88...  \n",
       "3  POLYGON ((-170.00000 -90.00000, -170.00000 -88...  \n",
       "4  POLYGON ((-167.50000 -90.00000, -167.50000 -88...  "
      ]
     },
     "execution_count": 4,
     "metadata": {},
     "output_type": "execute_result"
    }
   ],
   "source": [
    "fsns.head() #sun, W/m^2"
   ]
  },
  {
   "cell_type": "code",
   "execution_count": 5,
   "metadata": {
    "id": "Ncl-IRq3P3Dj"
   },
   "outputs": [
    {
     "data": {
      "text/html": [
       "<div>\n",
       "<style scoped>\n",
       "    .dataframe tbody tr th:only-of-type {\n",
       "        vertical-align: middle;\n",
       "    }\n",
       "\n",
       "    .dataframe tbody tr th {\n",
       "        vertical-align: top;\n",
       "    }\n",
       "\n",
       "    .dataframe thead th {\n",
       "        text-align: right;\n",
       "    }\n",
       "</style>\n",
       "<table border=\"1\" class=\"dataframe\">\n",
       "  <thead>\n",
       "    <tr style=\"text-align: right;\">\n",
       "      <th></th>\n",
       "      <th>lats</th>\n",
       "      <th>lons</th>\n",
       "      <th>0005-05</th>\n",
       "      <th>0005-06</th>\n",
       "      <th>0005-07</th>\n",
       "      <th>0005-08</th>\n",
       "      <th>0005-09</th>\n",
       "      <th>0005-10</th>\n",
       "      <th>0005-11</th>\n",
       "      <th>0005-12</th>\n",
       "      <th>0006-01</th>\n",
       "      <th>0006-02</th>\n",
       "      <th>0006-03</th>\n",
       "      <th>0006-04</th>\n",
       "      <th>geometry</th>\n",
       "    </tr>\n",
       "  </thead>\n",
       "  <tbody>\n",
       "    <tr>\n",
       "      <th>0</th>\n",
       "      <td>-90.0</td>\n",
       "      <td>-180.0</td>\n",
       "      <td>220.342468</td>\n",
       "      <td>215.503311</td>\n",
       "      <td>220.463852</td>\n",
       "      <td>221.868210</td>\n",
       "      <td>223.157059</td>\n",
       "      <td>223.557083</td>\n",
       "      <td>230.742920</td>\n",
       "      <td>238.620422</td>\n",
       "      <td>238.959991</td>\n",
       "      <td>229.481277</td>\n",
       "      <td>224.424927</td>\n",
       "      <td>0.0</td>\n",
       "      <td>POLYGON ((-177.50000 -90.00000, -177.50000 -88...</td>\n",
       "    </tr>\n",
       "    <tr>\n",
       "      <th>1</th>\n",
       "      <td>-90.0</td>\n",
       "      <td>-177.5</td>\n",
       "      <td>220.340179</td>\n",
       "      <td>215.495789</td>\n",
       "      <td>220.467178</td>\n",
       "      <td>221.873779</td>\n",
       "      <td>223.160843</td>\n",
       "      <td>223.570450</td>\n",
       "      <td>230.769943</td>\n",
       "      <td>238.669510</td>\n",
       "      <td>239.032562</td>\n",
       "      <td>229.503387</td>\n",
       "      <td>224.421722</td>\n",
       "      <td>0.0</td>\n",
       "      <td>POLYGON ((-175.00000 -90.00000, -175.00000 -88...</td>\n",
       "    </tr>\n",
       "    <tr>\n",
       "      <th>2</th>\n",
       "      <td>-90.0</td>\n",
       "      <td>-175.0</td>\n",
       "      <td>220.370514</td>\n",
       "      <td>215.534012</td>\n",
       "      <td>220.475540</td>\n",
       "      <td>221.894608</td>\n",
       "      <td>223.168854</td>\n",
       "      <td>223.588333</td>\n",
       "      <td>230.771729</td>\n",
       "      <td>238.680923</td>\n",
       "      <td>239.090103</td>\n",
       "      <td>229.568085</td>\n",
       "      <td>224.460007</td>\n",
       "      <td>0.0</td>\n",
       "      <td>POLYGON ((-172.50000 -90.00000, -172.50000 -88...</td>\n",
       "    </tr>\n",
       "    <tr>\n",
       "      <th>3</th>\n",
       "      <td>-90.0</td>\n",
       "      <td>-172.5</td>\n",
       "      <td>220.354309</td>\n",
       "      <td>215.517487</td>\n",
       "      <td>220.456039</td>\n",
       "      <td>221.882523</td>\n",
       "      <td>223.154953</td>\n",
       "      <td>223.567429</td>\n",
       "      <td>230.734650</td>\n",
       "      <td>238.613739</td>\n",
       "      <td>238.971558</td>\n",
       "      <td>229.504593</td>\n",
       "      <td>224.440613</td>\n",
       "      <td>0.0</td>\n",
       "      <td>POLYGON ((-170.00000 -90.00000, -170.00000 -88...</td>\n",
       "    </tr>\n",
       "    <tr>\n",
       "      <th>4</th>\n",
       "      <td>-90.0</td>\n",
       "      <td>-170.0</td>\n",
       "      <td>220.349030</td>\n",
       "      <td>215.508636</td>\n",
       "      <td>220.457947</td>\n",
       "      <td>221.881195</td>\n",
       "      <td>223.156204</td>\n",
       "      <td>223.568954</td>\n",
       "      <td>230.742767</td>\n",
       "      <td>238.625778</td>\n",
       "      <td>238.979492</td>\n",
       "      <td>229.497925</td>\n",
       "      <td>224.433029</td>\n",
       "      <td>0.0</td>\n",
       "      <td>POLYGON ((-167.50000 -90.00000, -167.50000 -88...</td>\n",
       "    </tr>\n",
       "  </tbody>\n",
       "</table>\n",
       "</div>"
      ],
      "text/plain": [
       "   lats   lons     0005-05     0005-06     0005-07     0005-08     0005-09  \\\n",
       "0 -90.0 -180.0  220.342468  215.503311  220.463852  221.868210  223.157059   \n",
       "1 -90.0 -177.5  220.340179  215.495789  220.467178  221.873779  223.160843   \n",
       "2 -90.0 -175.0  220.370514  215.534012  220.475540  221.894608  223.168854   \n",
       "3 -90.0 -172.5  220.354309  215.517487  220.456039  221.882523  223.154953   \n",
       "4 -90.0 -170.0  220.349030  215.508636  220.457947  221.881195  223.156204   \n",
       "\n",
       "      0005-10     0005-11     0005-12     0006-01     0006-02     0006-03  \\\n",
       "0  223.557083  230.742920  238.620422  238.959991  229.481277  224.424927   \n",
       "1  223.570450  230.769943  238.669510  239.032562  229.503387  224.421722   \n",
       "2  223.588333  230.771729  238.680923  239.090103  229.568085  224.460007   \n",
       "3  223.567429  230.734650  238.613739  238.971558  229.504593  224.440613   \n",
       "4  223.568954  230.742767  238.625778  238.979492  229.497925  224.433029   \n",
       "\n",
       "   0006-04                                           geometry  \n",
       "0      0.0  POLYGON ((-177.50000 -90.00000, -177.50000 -88...  \n",
       "1      0.0  POLYGON ((-175.00000 -90.00000, -175.00000 -88...  \n",
       "2      0.0  POLYGON ((-172.50000 -90.00000, -172.50000 -88...  \n",
       "3      0.0  POLYGON ((-170.00000 -90.00000, -170.00000 -88...  \n",
       "4      0.0  POLYGON ((-167.50000 -90.00000, -167.50000 -88...  "
      ]
     },
     "execution_count": 5,
     "metadata": {},
     "output_type": "execute_result"
    }
   ],
   "source": [
    "ts.head() #temp, kelvin"
   ]
  },
  {
   "cell_type": "code",
   "execution_count": 6,
   "metadata": {
    "id": "ejlRh4quP3Dk"
   },
   "outputs": [
    {
     "data": {
      "text/html": [
       "<div>\n",
       "<style scoped>\n",
       "    .dataframe tbody tr th:only-of-type {\n",
       "        vertical-align: middle;\n",
       "    }\n",
       "\n",
       "    .dataframe tbody tr th {\n",
       "        vertical-align: top;\n",
       "    }\n",
       "\n",
       "    .dataframe thead th {\n",
       "        text-align: right;\n",
       "    }\n",
       "</style>\n",
       "<table border=\"1\" class=\"dataframe\">\n",
       "  <thead>\n",
       "    <tr style=\"text-align: right;\">\n",
       "      <th></th>\n",
       "      <th>lats</th>\n",
       "      <th>lons</th>\n",
       "      <th>0005-05</th>\n",
       "      <th>0005-06</th>\n",
       "      <th>0005-07</th>\n",
       "      <th>0005-08</th>\n",
       "      <th>0005-09</th>\n",
       "      <th>0005-10</th>\n",
       "      <th>0005-11</th>\n",
       "      <th>0005-12</th>\n",
       "      <th>0006-01</th>\n",
       "      <th>0006-02</th>\n",
       "      <th>0006-03</th>\n",
       "      <th>0006-04</th>\n",
       "      <th>geometry</th>\n",
       "    </tr>\n",
       "  </thead>\n",
       "  <tbody>\n",
       "    <tr>\n",
       "      <th>0</th>\n",
       "      <td>-90.0</td>\n",
       "      <td>-180.0</td>\n",
       "      <td>2.036849e-09</td>\n",
       "      <td>1.260919e-09</td>\n",
       "      <td>2.828056e-09</td>\n",
       "      <td>2.751045e-09</td>\n",
       "      <td>3.160088e-09</td>\n",
       "      <td>2.173264e-09</td>\n",
       "      <td>7.796936e-10</td>\n",
       "      <td>6.155515e-10</td>\n",
       "      <td>5.939513e-10</td>\n",
       "      <td>8.130316e-10</td>\n",
       "      <td>2.176508e-09</td>\n",
       "      <td>4.003180e-09</td>\n",
       "      <td>POLYGON ((-177.50000 -90.00000, -177.50000 -88...</td>\n",
       "    </tr>\n",
       "    <tr>\n",
       "      <th>1</th>\n",
       "      <td>-90.0</td>\n",
       "      <td>-177.5</td>\n",
       "      <td>2.036849e-09</td>\n",
       "      <td>1.260919e-09</td>\n",
       "      <td>2.828056e-09</td>\n",
       "      <td>2.751045e-09</td>\n",
       "      <td>3.160088e-09</td>\n",
       "      <td>2.173264e-09</td>\n",
       "      <td>7.796936e-10</td>\n",
       "      <td>6.155515e-10</td>\n",
       "      <td>5.939513e-10</td>\n",
       "      <td>8.130316e-10</td>\n",
       "      <td>2.176508e-09</td>\n",
       "      <td>4.003180e-09</td>\n",
       "      <td>POLYGON ((-175.00000 -90.00000, -175.00000 -88...</td>\n",
       "    </tr>\n",
       "    <tr>\n",
       "      <th>2</th>\n",
       "      <td>-90.0</td>\n",
       "      <td>-175.0</td>\n",
       "      <td>2.036849e-09</td>\n",
       "      <td>1.260919e-09</td>\n",
       "      <td>2.828056e-09</td>\n",
       "      <td>2.751045e-09</td>\n",
       "      <td>3.160088e-09</td>\n",
       "      <td>2.173264e-09</td>\n",
       "      <td>7.796936e-10</td>\n",
       "      <td>6.155515e-10</td>\n",
       "      <td>5.939513e-10</td>\n",
       "      <td>8.130316e-10</td>\n",
       "      <td>2.176508e-09</td>\n",
       "      <td>4.003180e-09</td>\n",
       "      <td>POLYGON ((-172.50000 -90.00000, -172.50000 -88...</td>\n",
       "    </tr>\n",
       "    <tr>\n",
       "      <th>3</th>\n",
       "      <td>-90.0</td>\n",
       "      <td>-172.5</td>\n",
       "      <td>2.036849e-09</td>\n",
       "      <td>1.260919e-09</td>\n",
       "      <td>2.828056e-09</td>\n",
       "      <td>2.751045e-09</td>\n",
       "      <td>3.160088e-09</td>\n",
       "      <td>2.173264e-09</td>\n",
       "      <td>7.796936e-10</td>\n",
       "      <td>6.155515e-10</td>\n",
       "      <td>5.939513e-10</td>\n",
       "      <td>8.130316e-10</td>\n",
       "      <td>2.176508e-09</td>\n",
       "      <td>4.003180e-09</td>\n",
       "      <td>POLYGON ((-170.00000 -90.00000, -170.00000 -88...</td>\n",
       "    </tr>\n",
       "    <tr>\n",
       "      <th>4</th>\n",
       "      <td>-90.0</td>\n",
       "      <td>-170.0</td>\n",
       "      <td>2.036849e-09</td>\n",
       "      <td>1.260919e-09</td>\n",
       "      <td>2.828056e-09</td>\n",
       "      <td>2.751045e-09</td>\n",
       "      <td>3.160088e-09</td>\n",
       "      <td>2.173264e-09</td>\n",
       "      <td>7.796936e-10</td>\n",
       "      <td>6.155515e-10</td>\n",
       "      <td>5.939513e-10</td>\n",
       "      <td>8.130316e-10</td>\n",
       "      <td>2.176508e-09</td>\n",
       "      <td>4.003180e-09</td>\n",
       "      <td>POLYGON ((-167.50000 -90.00000, -167.50000 -88...</td>\n",
       "    </tr>\n",
       "  </tbody>\n",
       "</table>\n",
       "</div>"
      ],
      "text/plain": [
       "   lats   lons       0005-05       0005-06       0005-07       0005-08  \\\n",
       "0 -90.0 -180.0  2.036849e-09  1.260919e-09  2.828056e-09  2.751045e-09   \n",
       "1 -90.0 -177.5  2.036849e-09  1.260919e-09  2.828056e-09  2.751045e-09   \n",
       "2 -90.0 -175.0  2.036849e-09  1.260919e-09  2.828056e-09  2.751045e-09   \n",
       "3 -90.0 -172.5  2.036849e-09  1.260919e-09  2.828056e-09  2.751045e-09   \n",
       "4 -90.0 -170.0  2.036849e-09  1.260919e-09  2.828056e-09  2.751045e-09   \n",
       "\n",
       "        0005-09       0005-10       0005-11       0005-12       0006-01  \\\n",
       "0  3.160088e-09  2.173264e-09  7.796936e-10  6.155515e-10  5.939513e-10   \n",
       "1  3.160088e-09  2.173264e-09  7.796936e-10  6.155515e-10  5.939513e-10   \n",
       "2  3.160088e-09  2.173264e-09  7.796936e-10  6.155515e-10  5.939513e-10   \n",
       "3  3.160088e-09  2.173264e-09  7.796936e-10  6.155515e-10  5.939513e-10   \n",
       "4  3.160088e-09  2.173264e-09  7.796936e-10  6.155515e-10  5.939513e-10   \n",
       "\n",
       "        0006-02       0006-03       0006-04  \\\n",
       "0  8.130316e-10  2.176508e-09  4.003180e-09   \n",
       "1  8.130316e-10  2.176508e-09  4.003180e-09   \n",
       "2  8.130316e-10  2.176508e-09  4.003180e-09   \n",
       "3  8.130316e-10  2.176508e-09  4.003180e-09   \n",
       "4  8.130316e-10  2.176508e-09  4.003180e-09   \n",
       "\n",
       "                                            geometry  \n",
       "0  POLYGON ((-177.50000 -90.00000, -177.50000 -88...  \n",
       "1  POLYGON ((-175.00000 -90.00000, -175.00000 -88...  \n",
       "2  POLYGON ((-172.50000 -90.00000, -172.50000 -88...  \n",
       "3  POLYGON ((-170.00000 -90.00000, -170.00000 -88...  \n",
       "4  POLYGON ((-167.50000 -90.00000, -167.50000 -88...  "
      ]
     },
     "execution_count": 6,
     "metadata": {},
     "output_type": "execute_result"
    }
   ],
   "source": [
    "precl.head() #rain, average m/s over the month"
   ]
  },
  {
   "cell_type": "markdown",
   "metadata": {
    "id": "a71Wm8RSP3Dk"
   },
   "source": [
    "The grow area is shown below using hectares. Note it is only calculated for one month as it's assumed to be unchanging for now."
   ]
  },
  {
   "cell_type": "code",
   "execution_count": 7,
   "metadata": {
    "id": "cuExVQspP3Dk"
   },
   "outputs": [
    {
     "data": {
      "text/html": [
       "<div>\n",
       "<style scoped>\n",
       "    .dataframe tbody tr th:only-of-type {\n",
       "        vertical-align: middle;\n",
       "    }\n",
       "\n",
       "    .dataframe tbody tr th {\n",
       "        vertical-align: top;\n",
       "    }\n",
       "\n",
       "    .dataframe thead th {\n",
       "        text-align: right;\n",
       "    }\n",
       "</style>\n",
       "<table border=\"1\" class=\"dataframe\">\n",
       "  <thead>\n",
       "    <tr style=\"text-align: right;\">\n",
       "      <th></th>\n",
       "      <th>lats</th>\n",
       "      <th>lons</th>\n",
       "      <th>fraction</th>\n",
       "      <th>geometry</th>\n",
       "      <th>cellArea</th>\n",
       "      <th>growArea</th>\n",
       "    </tr>\n",
       "  </thead>\n",
       "  <tbody>\n",
       "    <tr>\n",
       "      <th>0</th>\n",
       "      <td>-90.0</td>\n",
       "      <td>-180.0</td>\n",
       "      <td>0.0</td>\n",
       "      <td>POLYGON ((-177.50000 -90.00000, -177.50000 -88...</td>\n",
       "      <td>97701.657432</td>\n",
       "      <td>0.0</td>\n",
       "    </tr>\n",
       "    <tr>\n",
       "      <th>1</th>\n",
       "      <td>-90.0</td>\n",
       "      <td>-177.5</td>\n",
       "      <td>0.0</td>\n",
       "      <td>POLYGON ((-175.00000 -90.00000, -175.00000 -88...</td>\n",
       "      <td>97701.657432</td>\n",
       "      <td>0.0</td>\n",
       "    </tr>\n",
       "    <tr>\n",
       "      <th>2</th>\n",
       "      <td>-90.0</td>\n",
       "      <td>-175.0</td>\n",
       "      <td>0.0</td>\n",
       "      <td>POLYGON ((-172.50000 -90.00000, -172.50000 -88...</td>\n",
       "      <td>97701.657432</td>\n",
       "      <td>0.0</td>\n",
       "    </tr>\n",
       "    <tr>\n",
       "      <th>3</th>\n",
       "      <td>-90.0</td>\n",
       "      <td>-172.5</td>\n",
       "      <td>0.0</td>\n",
       "      <td>POLYGON ((-170.00000 -90.00000, -170.00000 -88...</td>\n",
       "      <td>97701.657432</td>\n",
       "      <td>0.0</td>\n",
       "    </tr>\n",
       "    <tr>\n",
       "      <th>4</th>\n",
       "      <td>-90.0</td>\n",
       "      <td>-170.0</td>\n",
       "      <td>0.0</td>\n",
       "      <td>POLYGON ((-167.50000 -90.00000, -167.50000 -88...</td>\n",
       "      <td>97701.657432</td>\n",
       "      <td>0.0</td>\n",
       "    </tr>\n",
       "  </tbody>\n",
       "</table>\n",
       "</div>"
      ],
      "text/plain": [
       "   lats   lons  fraction                                           geometry  \\\n",
       "0 -90.0 -180.0       0.0  POLYGON ((-177.50000 -90.00000, -177.50000 -88...   \n",
       "1 -90.0 -177.5       0.0  POLYGON ((-175.00000 -90.00000, -175.00000 -88...   \n",
       "2 -90.0 -175.0       0.0  POLYGON ((-172.50000 -90.00000, -172.50000 -88...   \n",
       "3 -90.0 -172.5       0.0  POLYGON ((-170.00000 -90.00000, -170.00000 -88...   \n",
       "4 -90.0 -170.0       0.0  POLYGON ((-167.50000 -90.00000, -167.50000 -88...   \n",
       "\n",
       "       cellArea  growArea  \n",
       "0  97701.657432       0.0  \n",
       "1  97701.657432       0.0  \n",
       "2  97701.657432       0.0  \n",
       "3  97701.657432       0.0  \n",
       "4  97701.657432       0.0  "
      ]
     },
     "execution_count": 7,
     "metadata": {},
     "output_type": "execute_result"
    }
   ],
   "source": [
    "growArea.head()"
   ]
  },
  {
   "cell_type": "code",
   "execution_count": 8,
   "metadata": {
    "id": "-R31lYCzP3Dk"
   },
   "outputs": [
    {
     "data": {
      "text/html": [
       "<div>\n",
       "<style scoped>\n",
       "    .dataframe tbody tr th:only-of-type {\n",
       "        vertical-align: middle;\n",
       "    }\n",
       "\n",
       "    .dataframe tbody tr th {\n",
       "        vertical-align: top;\n",
       "    }\n",
       "\n",
       "    .dataframe thead th {\n",
       "        text-align: right;\n",
       "    }\n",
       "</style>\n",
       "<table border=\"1\" class=\"dataframe\">\n",
       "  <thead>\n",
       "    <tr style=\"text-align: right;\">\n",
       "      <th></th>\n",
       "      <th>lats</th>\n",
       "      <th>lons</th>\n",
       "      <th>0005-05</th>\n",
       "      <th>0005-06</th>\n",
       "      <th>0005-07</th>\n",
       "      <th>0005-08</th>\n",
       "      <th>0005-09</th>\n",
       "      <th>0005-10</th>\n",
       "      <th>0005-11</th>\n",
       "      <th>0005-12</th>\n",
       "      <th>0006-01</th>\n",
       "      <th>0006-02</th>\n",
       "      <th>0006-03</th>\n",
       "      <th>0006-04</th>\n",
       "      <th>geometry</th>\n",
       "    </tr>\n",
       "  </thead>\n",
       "  <tbody>\n",
       "    <tr>\n",
       "      <th>0</th>\n",
       "      <td>-90.0</td>\n",
       "      <td>-180.0</td>\n",
       "      <td>0.00004</td>\n",
       "      <td>0.000022</td>\n",
       "      <td>0.000047</td>\n",
       "      <td>0.000046</td>\n",
       "      <td>0.000085</td>\n",
       "      <td>0.000071</td>\n",
       "      <td>0.000102</td>\n",
       "      <td>0.000226</td>\n",
       "      <td>0.000234</td>\n",
       "      <td>0.000096</td>\n",
       "      <td>0.000065</td>\n",
       "      <td>0.000092</td>\n",
       "      <td>POLYGON ((-177.50000 -90.00000, -177.50000 -88...</td>\n",
       "    </tr>\n",
       "    <tr>\n",
       "      <th>1</th>\n",
       "      <td>-90.0</td>\n",
       "      <td>-177.5</td>\n",
       "      <td>0.00004</td>\n",
       "      <td>0.000022</td>\n",
       "      <td>0.000047</td>\n",
       "      <td>0.000046</td>\n",
       "      <td>0.000085</td>\n",
       "      <td>0.000071</td>\n",
       "      <td>0.000102</td>\n",
       "      <td>0.000226</td>\n",
       "      <td>0.000234</td>\n",
       "      <td>0.000096</td>\n",
       "      <td>0.000065</td>\n",
       "      <td>0.000092</td>\n",
       "      <td>POLYGON ((-175.00000 -90.00000, -175.00000 -88...</td>\n",
       "    </tr>\n",
       "    <tr>\n",
       "      <th>2</th>\n",
       "      <td>-90.0</td>\n",
       "      <td>-175.0</td>\n",
       "      <td>0.00004</td>\n",
       "      <td>0.000022</td>\n",
       "      <td>0.000047</td>\n",
       "      <td>0.000046</td>\n",
       "      <td>0.000085</td>\n",
       "      <td>0.000071</td>\n",
       "      <td>0.000102</td>\n",
       "      <td>0.000226</td>\n",
       "      <td>0.000234</td>\n",
       "      <td>0.000096</td>\n",
       "      <td>0.000065</td>\n",
       "      <td>0.000092</td>\n",
       "      <td>POLYGON ((-172.50000 -90.00000, -172.50000 -88...</td>\n",
       "    </tr>\n",
       "    <tr>\n",
       "      <th>3</th>\n",
       "      <td>-90.0</td>\n",
       "      <td>-172.5</td>\n",
       "      <td>0.00004</td>\n",
       "      <td>0.000022</td>\n",
       "      <td>0.000047</td>\n",
       "      <td>0.000046</td>\n",
       "      <td>0.000085</td>\n",
       "      <td>0.000071</td>\n",
       "      <td>0.000102</td>\n",
       "      <td>0.000226</td>\n",
       "      <td>0.000234</td>\n",
       "      <td>0.000096</td>\n",
       "      <td>0.000065</td>\n",
       "      <td>0.000092</td>\n",
       "      <td>POLYGON ((-170.00000 -90.00000, -170.00000 -88...</td>\n",
       "    </tr>\n",
       "    <tr>\n",
       "      <th>4</th>\n",
       "      <td>-90.0</td>\n",
       "      <td>-170.0</td>\n",
       "      <td>0.00004</td>\n",
       "      <td>0.000022</td>\n",
       "      <td>0.000047</td>\n",
       "      <td>0.000046</td>\n",
       "      <td>0.000085</td>\n",
       "      <td>0.000071</td>\n",
       "      <td>0.000102</td>\n",
       "      <td>0.000226</td>\n",
       "      <td>0.000234</td>\n",
       "      <td>0.000096</td>\n",
       "      <td>0.000065</td>\n",
       "      <td>0.000092</td>\n",
       "      <td>POLYGON ((-167.50000 -90.00000, -167.50000 -88...</td>\n",
       "    </tr>\n",
       "  </tbody>\n",
       "</table>\n",
       "</div>"
      ],
      "text/plain": [
       "   lats   lons  0005-05   0005-06   0005-07   0005-08   0005-09   0005-10  \\\n",
       "0 -90.0 -180.0  0.00004  0.000022  0.000047  0.000046  0.000085  0.000071   \n",
       "1 -90.0 -177.5  0.00004  0.000022  0.000047  0.000046  0.000085  0.000071   \n",
       "2 -90.0 -175.0  0.00004  0.000022  0.000047  0.000046  0.000085  0.000071   \n",
       "3 -90.0 -172.5  0.00004  0.000022  0.000047  0.000046  0.000085  0.000071   \n",
       "4 -90.0 -170.0  0.00004  0.000022  0.000047  0.000046  0.000085  0.000071   \n",
       "\n",
       "    0005-11   0005-12   0006-01   0006-02   0006-03   0006-04  \\\n",
       "0  0.000102  0.000226  0.000234  0.000096  0.000065  0.000092   \n",
       "1  0.000102  0.000226  0.000234  0.000096  0.000065  0.000092   \n",
       "2  0.000102  0.000226  0.000234  0.000096  0.000065  0.000092   \n",
       "3  0.000102  0.000226  0.000234  0.000096  0.000065  0.000092   \n",
       "4  0.000102  0.000226  0.000234  0.000096  0.000065  0.000092   \n",
       "\n",
       "                                            geometry  \n",
       "0  POLYGON ((-177.50000 -90.00000, -177.50000 -88...  \n",
       "1  POLYGON ((-175.00000 -90.00000, -175.00000 -88...  \n",
       "2  POLYGON ((-172.50000 -90.00000, -172.50000 -88...  \n",
       "3  POLYGON ((-170.00000 -90.00000, -170.00000 -88...  \n",
       "4  POLYGON ((-167.50000 -90.00000, -167.50000 -88...  "
      ]
     },
     "execution_count": 8,
     "metadata": {},
     "output_type": "execute_result"
    }
   ],
   "source": [
    "q.head()"
   ]
  },
  {
   "cell_type": "markdown",
   "metadata": {
    "id": "pfEPfMvcP3Dk"
   },
   "source": [
    "Let's also look at the values for some of the Params.ods variable values. It's important to be able to modify these if you want to be able to improve the cropOpt model. Make sure to restart the Jupyter kernel to reimport changes to params variables. The code below is looping through all the cells and all the months, so it might take a few minutes, depending on your machine.\n",
    "\n",
    "Again, there appear to be issues with april of year 6 (second year of winter), and also possibly september year 5 (first year of winter)."
   ]
  },
  {
   "cell_type": "code",
   "execution_count": 9,
   "metadata": {
    "id": "_hGc6jDBP3Dl"
   },
   "outputs": [],
   "source": [
    "allMonths=params.allMonths\n",
    "\n",
    "#initialize object of outdoor growth class\n",
    "outdoorGrowth=OutdoorGrowth()"
   ]
  },
  {
   "cell_type": "code",
   "execution_count": 10,
   "metadata": {
    "id": "0FGUeggJP3Dl"
   },
   "outputs": [
    {
     "name": "stderr",
     "output_type": "stream",
     "text": [
      "/home/dmrivers/.cache/pypoetry/virtualenvs/co--V6REObM-py3.7/lib/python3.7/site-packages/pyproj/crs/crs.py:68: FutureWarning: '+init=<authority>:<code>' syntax is deprecated. '<authority>:<code>' is the preferred initialization method. When making the change, be mindful of axis order changes: https://pyproj4.github.io/pyproj/stable/gotchas.html#axis-order-changes-in-proj-6\n",
      "  return _prepare_from_string(\" \".join(pjargs))\n"
     ]
    },
    {
     "name": "stdout",
     "output_type": "stream",
     "text": [
      "Month 0005-05 yields: 966170636379.4714\n",
      "Month 0005-06 yields: 1550455454189.756\n",
      "Month 0005-07 yields: 781913454539.0902\n",
      "Month 0005-08 yields: 1833600941680.878\n",
      "Month 0005-09 yields: 0.0\n",
      "Month 0005-10 yields: 16513974610.77304\n",
      "Month 0005-11 yields: 4481420057.670291\n",
      "Month 0005-12 yields: 111893887446.69637\n",
      "Month 0006-01 yields: 494484711811.82635\n",
      "Month 0006-02 yields: 310378116122.90063\n",
      "Month 0006-03 yields: 277840351592.36615\n",
      "Month 0006-04 yields: 0\n"
     ]
    },
    {
     "name": "stderr",
     "output_type": "stream",
     "text": [
      "/home/dmrivers/.cache/pypoetry/virtualenvs/co--V6REObM-py3.7/lib/python3.7/site-packages/pyproj/crs/crs.py:68: FutureWarning: '+init=<authority>:<code>' syntax is deprecated. '<authority>:<code>' is the preferred initialization method. When making the change, be mindful of axis order changes: https://pyproj4.github.io/pyproj/stable/gotchas.html#axis-order-changes-in-proj-6\n",
      "  return _prepare_from_string(\" \".join(pjargs))\n"
     ]
    },
    {
     "name": "stdout",
     "output_type": "stream",
     "text": [
      "Month 0005-05 yields: 774682377472.7759\n",
      "Month 0005-06 yields: 950790202534.0825\n",
      "Month 0005-07 yields: 499970896273.77423\n",
      "Month 0005-08 yields: 1084171851025.0289\n",
      "Month 0005-09 yields: 2279062.4646386397\n",
      "Month 0005-10 yields: 11586404120.152742\n",
      "Month 0005-11 yields: 2266862265.5774455\n",
      "Month 0005-12 yields: 65118904885.19839\n",
      "Month 0006-01 yields: 277593620282.3057\n",
      "Month 0006-02 yields: 188204177352.97446\n",
      "Month 0006-03 yields: 177204262563.0798\n",
      "Month 0006-04 yields: 0\n"
     ]
    }
   ],
   "source": [
    "plotYields = False # if plotYields is False, figures are saved but not shown\n",
    "\n",
    "yields = outdoorGrowth.estimateYields(ts,precl,growArea,plotYields)"
   ]
  },
  {
   "cell_type": "markdown",
   "metadata": {
    "id": "mjjOEPHoP3Dl"
   },
   "source": [
    "Plots above are saved, see below for details\n",
    "\n",
    "Below, we generate the remaining plots of the figures for all months of the simulation. This will take several minutes to run."
   ]
  },
  {
   "cell_type": "code",
   "execution_count": null,
   "metadata": {
    "id": "r3bJ91w1P3Dl"
   },
   "outputs": [],
   "source": [
    "#if plot booleans are False, figures are saved but not shown\n",
    "plotSun=False\n",
    "plotTemp=False\n",
    "plotRain=False\n",
    "plotHum=False \n",
    "\n",
    "print('Producing Sun Figures')\n",
    "for month in allMonths:\n",
    "\ttitle=\"Solar Flux at Surface, month \"+month\n",
    "\tlegendlabel=\"Solar Flux (W/m^2)\"\n",
    "\tfn=\"SolarFlux\"+month\n",
    "\tPlotter.plotMap(fsns,month,title,legendlabel,fn,plotSun)\n",
    "\n",
    "print('Producing Temp Figures')\n",
    "for month in allMonths:\n",
    "\ttitle=\"Surface (radiative) Temperature, month \"+month\n",
    "\tlegendlabel=\"Temperature (K)\"\n",
    "\tfn=\"SurfaceTemp\"+month\n",
    "\tPlotter.plotMap(ts,month,title,legendlabel,fn,plotTemp)\n",
    "\n",
    "print('Producing Rain Figures')\n",
    "for month in allMonths:\n",
    "\ttitle=\"Precipitation \"+month\n",
    "\tlegendlabel=\"Precipitation (m/s)\"\n",
    "\tfn=\"Precipitation\"+month\n",
    "\tPlotter.plotMap(precl,month,title,legendlabel,fn,plotRain)\n",
    "\n",
    "print('Producing Humidity Figures')\n",
    "for month in allMonths:\n",
    "\ttitle=\"Humidity \"+month\n",
    "\tlegendlabel=\"Humidity (kg/kg)\"\n",
    "\tfn=\"Humidity\"+month\n",
    "\tPlotter.plotMap(q,month,title,legendlabel,fn,plotHum)\n"
   ]
  },
  {
   "cell_type": "markdown",
   "metadata": {
    "id": "sCPNDEq2P3Dm"
   },
   "source": [
    "Plots above are saved in the reports/figures directory (run code below for specific location)\n",
    "\n",
    "If you're running colab, go to the left side panel and click on the folder icon (tooltip says \"Files\"). You can download the figures from there. "
   ]
  },
  {
   "cell_type": "code",
   "execution_count": null,
   "metadata": {},
   "outputs": [],
   "source": [
    "# run this cell to see location where figures were saved from running the cells above\n",
    "print(\"Saved figures location: \" + params.figuresDir)"
   ]
  },
  {
   "cell_type": "code",
   "execution_count": null,
   "metadata": {
    "id": "2mYniyzqP3Dm"
   },
   "outputs": [],
   "source": [
    "# If you're interested in reproducing a CSV of many of the variables, you can call the function below:\n",
    "outdoorGrowth.saveLandSunHumRainCSV(ts,q,fsns,precl,growArea)"
   ]
  }
 ],
 "metadata": {
  "colab": {
   "include_colab_link": true,
   "name": "yield_demo.ipynb",
   "provenance": []
  },
  "kernelspec": {
   "display_name": "Python 3",
   "language": "python",
   "name": "python3"
  },
  "language_info": {
   "codemirror_mode": {
    "name": "ipython",
    "version": 3
   },
   "file_extension": ".py",
   "mimetype": "text/x-python",
   "name": "python",
   "nbconvert_exporter": "python",
   "pygments_lexer": "ipython3",
   "version": "3.7.3"
  }
 },
 "nbformat": 4,
 "nbformat_minor": 1
}
