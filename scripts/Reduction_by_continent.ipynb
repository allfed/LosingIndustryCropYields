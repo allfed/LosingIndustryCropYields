{
 "cells": [
  {
   "cell_type": "code",
   "execution_count": 1,
   "metadata": {},
   "outputs": [],
   "source": [
    "import geopandas as gpd\n",
    "import pandas as pd\n",
    "import matplotlib.pyplot as plt\n",
    "import numpy as np\n",
    "from shapely.geometry import Point\n",
    "import rioxarray \n",
    "import os\n",
    "import matplotlib as mpl\n",
    "import seaborn as sns\n",
    "import warnings\n"
   ]
  },
  {
   "cell_type": "code",
   "execution_count": 2,
   "metadata": {},
   "outputs": [],
   "source": [
    "crops = ['Corn']#, 'Soybean', \"Wheat\", \"Rice\"]\n",
    "phases = [1,2]"
   ]
  },
  {
   "cell_type": "code",
   "execution_count": 3,
   "metadata": {},
   "outputs": [],
   "source": [
    "# Read in the data\n",
    "gdf_dict = {}\n",
    "for crop in crops:\n",
    "    for phase in phases:\n",
    "        rds = rioxarray.open_rasterio(\n",
    "            \"../\" + os.sep + \"processed\" + os.sep + \"output\" + os.sep + crop + \"_phase_\" + str(phase) + \"_rc_mean.asc\"\n",
    "        )\n",
    "        rds = rds.squeeze().drop(\"spatial_ref\").drop(\"band\")\n",
    "        rds.name = \"data\"\n",
    "        df = rds.to_dataframe().reset_index().replace(-9, np.nan).dropna()\n",
    "        #df = df.head(500)\n",
    "        gdf_dict[crop+str(phase)] = df\n",
    "        "
   ]
  },
  {
   "cell_type": "code",
   "execution_count": 23,
   "metadata": {},
   "outputs": [
    {
     "data": {
      "text/plain": [
       "(195468, 3)"
      ]
     },
     "execution_count": 23,
     "metadata": {},
     "output_type": "execute_result"
    }
   ],
   "source": [
    "gdf_dict[\"Corn1\"].shape"
   ]
  },
  {
   "cell_type": "code",
   "execution_count": 4,
   "metadata": {},
   "outputs": [],
   "source": [
    "def dataframe_to_geopandas(df, name_lon='x', name_lat='y', name_data='data'):\n",
    "    # Convert the x and y columns to longitude and latitude, respectively\n",
    "    geometry = [Point(round(x,2), round(y,2)) for x, y in zip(df[name_lon], df[name_lat])]\n",
    "    \n",
    "    # Create a GeoDataFrame from the geometry and data columns\n",
    "    gdf = gpd.GeoDataFrame(df[name_data], geometry=geometry)\n",
    "    \n",
    "    return gdf\n"
   ]
  },
  {
   "cell_type": "code",
   "execution_count": 5,
   "metadata": {},
   "outputs": [
    {
     "name": "stdout",
     "output_type": "stream",
     "text": [
      "Corn1\n",
      "Corn2\n"
     ]
    }
   ],
   "source": [
    "# Convert the dataframes to geodataframes\n",
    "gdf_dict_gpd = {}\n",
    "for i in gdf_dict.keys():\n",
    "    print(i)\n",
    "    gdf_dict_gpd[i] = dataframe_to_geopandas(gdf_dict[i])"
   ]
  },
  {
   "cell_type": "code",
   "execution_count": 6,
   "metadata": {},
   "outputs": [],
   "source": [
    "regions = gpd.read_file(\"../\" + os.sep + \"spatial_data\" + os. sep + \"regions\" + os.sep + \"ne_10m_admin_0_countries_lakes.shp\")\n",
    "regions = regions[(regions['CONTINENT'] != 'Antarctica') & (regions['CONTINENT'] != 'Seven seas (open ocean)')]\n",
    "regions = regions[[\"CONTINENT\", \"geometry\"]]\n",
    "# Dissolve the geometries by region\n",
    "regions = regions.dissolve(by=\"CONTINENT\")\n",
    "regions = regions.reset_index()\n",
    "regions.to_crs(\"EPSG:4326\", inplace=True)"
   ]
  },
  {
   "cell_type": "code",
   "execution_count": 10,
   "metadata": {},
   "outputs": [],
   "source": [
    "# Also read in the area and max yields, so you can use them later to weight the mean\n",
    "crop = pd.read_pickle(\"..\" + os.sep + \"processed\" + os.sep + \"input\" + os.sep + \"crop\" + os.sep + \"Corn_raw.pkl\", compression=\"zip\")\n",
    "# drop nan\n",
    "crop = crop.dropna()\n"
   ]
  },
  {
   "cell_type": "code",
   "execution_count": 11,
   "metadata": {},
   "outputs": [
    {
     "data": {
      "text/html": [
       "<div>\n",
       "<style scoped>\n",
       "    .dataframe tbody tr th:only-of-type {\n",
       "        vertical-align: middle;\n",
       "    }\n",
       "\n",
       "    .dataframe tbody tr th {\n",
       "        vertical-align: top;\n",
       "    }\n",
       "\n",
       "    .dataframe thead th {\n",
       "        text-align: right;\n",
       "    }\n",
       "</style>\n",
       "<table border=\"1\" class=\"dataframe\">\n",
       "  <thead>\n",
       "    <tr style=\"text-align: right;\">\n",
       "      <th></th>\n",
       "      <th>lat</th>\n",
       "      <th>lon</th>\n",
       "      <th>yield_area</th>\n",
       "    </tr>\n",
       "  </thead>\n",
       "  <tbody>\n",
       "    <tr>\n",
       "      <th>1481140</th>\n",
       "      <td>38.333333</td>\n",
       "      <td>-122.916667</td>\n",
       "      <td>138920.406250</td>\n",
       "    </tr>\n",
       "    <tr>\n",
       "      <th>1483299</th>\n",
       "      <td>38.250000</td>\n",
       "      <td>-122.833333</td>\n",
       "      <td>178528.234375</td>\n",
       "    </tr>\n",
       "    <tr>\n",
       "      <th>1487619</th>\n",
       "      <td>38.250000</td>\n",
       "      <td>-122.666667</td>\n",
       "      <td>163541.515625</td>\n",
       "    </tr>\n",
       "    <tr>\n",
       "      <th>1489778</th>\n",
       "      <td>38.166667</td>\n",
       "      <td>-122.583333</td>\n",
       "      <td>63581.207031</td>\n",
       "    </tr>\n",
       "    <tr>\n",
       "      <th>1489779</th>\n",
       "      <td>38.250000</td>\n",
       "      <td>-122.583333</td>\n",
       "      <td>58152.238281</td>\n",
       "    </tr>\n",
       "  </tbody>\n",
       "</table>\n",
       "</div>"
      ],
      "text/plain": [
       "               lat         lon     yield_area\n",
       "1481140  38.333333 -122.916667  138920.406250\n",
       "1483299  38.250000 -122.833333  178528.234375\n",
       "1487619  38.250000 -122.666667  163541.515625\n",
       "1489778  38.166667 -122.583333   63581.207031\n",
       "1489779  38.250000 -122.583333   58152.238281"
      ]
     },
     "execution_count": 11,
     "metadata": {},
     "output_type": "execute_result"
    }
   ],
   "source": [
    "crop[\"yield_area\"] = crop[\"Yield\"] * crop[\"area\"]\n",
    "crop = crop[[\"lat\", \"lon\", \"yield_area\"]]\n",
    "crop.head()"
   ]
  },
  {
   "cell_type": "code",
   "execution_count": 17,
   "metadata": {},
   "outputs": [
    {
     "data": {
      "text/plain": [
       "(340675, 3)"
      ]
     },
     "execution_count": 17,
     "metadata": {},
     "output_type": "execute_result"
    }
   ],
   "source": [
    "crop.shape"
   ]
  },
  {
   "cell_type": "code",
   "execution_count": 9,
   "metadata": {},
   "outputs": [
    {
     "data": {
      "text/html": [
       "<div>\n",
       "<style scoped>\n",
       "    .dataframe tbody tr th:only-of-type {\n",
       "        vertical-align: middle;\n",
       "    }\n",
       "\n",
       "    .dataframe tbody tr th {\n",
       "        vertical-align: top;\n",
       "    }\n",
       "\n",
       "    .dataframe thead th {\n",
       "        text-align: right;\n",
       "    }\n",
       "</style>\n",
       "<table border=\"1\" class=\"dataframe\">\n",
       "  <thead>\n",
       "    <tr style=\"text-align: right;\">\n",
       "      <th></th>\n",
       "      <th>yield_area</th>\n",
       "      <th>geometry</th>\n",
       "    </tr>\n",
       "  </thead>\n",
       "  <tbody>\n",
       "    <tr>\n",
       "      <th>1481140</th>\n",
       "      <td>138920.406250</td>\n",
       "      <td>POINT (-122.92000 38.33000)</td>\n",
       "    </tr>\n",
       "    <tr>\n",
       "      <th>1483299</th>\n",
       "      <td>178528.234375</td>\n",
       "      <td>POINT (-122.83000 38.25000)</td>\n",
       "    </tr>\n",
       "    <tr>\n",
       "      <th>1487619</th>\n",
       "      <td>163541.515625</td>\n",
       "      <td>POINT (-122.67000 38.25000)</td>\n",
       "    </tr>\n",
       "    <tr>\n",
       "      <th>1489778</th>\n",
       "      <td>63581.207031</td>\n",
       "      <td>POINT (-122.58000 38.17000)</td>\n",
       "    </tr>\n",
       "    <tr>\n",
       "      <th>1489779</th>\n",
       "      <td>58152.238281</td>\n",
       "      <td>POINT (-122.58000 38.25000)</td>\n",
       "    </tr>\n",
       "  </tbody>\n",
       "</table>\n",
       "</div>"
      ],
      "text/plain": [
       "            yield_area                     geometry\n",
       "1481140  138920.406250  POINT (-122.92000 38.33000)\n",
       "1483299  178528.234375  POINT (-122.83000 38.25000)\n",
       "1487619  163541.515625  POINT (-122.67000 38.25000)\n",
       "1489778   63581.207031  POINT (-122.58000 38.17000)\n",
       "1489779   58152.238281  POINT (-122.58000 38.25000)"
      ]
     },
     "execution_count": 9,
     "metadata": {},
     "output_type": "execute_result"
    }
   ],
   "source": [
    "crop_geo = dataframe_to_geopandas(crop, name_lon=\"lon\", name_lat=\"lat\", name_data=\"yield_area\")\n",
    "crop_geo.crs = \"EPSG:4326\"\n",
    "crop_geo.head()"
   ]
  },
  {
   "cell_type": "code",
   "execution_count": 39,
   "metadata": {},
   "outputs": [
    {
     "data": {
      "text/plain": [
       "<AxesSubplot:>"
      ]
     },
     "execution_count": 39,
     "metadata": {},
     "output_type": "execute_result"
    },
    {
     "data": {
      "image/png": "[encoded data removed]",
      "text/plain": [
       "<Figure size 640x480 with 1 Axes>"
      ]
     },
     "metadata": {},
     "output_type": "display_data"
    }
   ],
   "source": [
    "crop_geo.plot()"
   ]
  },
  {
   "cell_type": "code",
   "execution_count": 10,
   "metadata": {},
   "outputs": [
    {
     "data": {
      "text/html": [
       "<div>\n",
       "<style scoped>\n",
       "    .dataframe tbody tr th:only-of-type {\n",
       "        vertical-align: middle;\n",
       "    }\n",
       "\n",
       "    .dataframe tbody tr th {\n",
       "        vertical-align: top;\n",
       "    }\n",
       "\n",
       "    .dataframe thead th {\n",
       "        text-align: right;\n",
       "    }\n",
       "</style>\n",
       "<table border=\"1\" class=\"dataframe\">\n",
       "  <thead>\n",
       "    <tr style=\"text-align: right;\">\n",
       "      <th></th>\n",
       "      <th>data</th>\n",
       "      <th>geometry</th>\n",
       "    </tr>\n",
       "  </thead>\n",
       "  <tbody>\n",
       "    <tr>\n",
       "      <th>1838363</th>\n",
       "      <td>0.0</td>\n",
       "      <td>POINT (16.96000 54.54000)</td>\n",
       "    </tr>\n",
       "    <tr>\n",
       "      <th>1842682</th>\n",
       "      <td>0.0</td>\n",
       "      <td>POINT (16.87000 54.46000)</td>\n",
       "    </tr>\n",
       "    <tr>\n",
       "      <th>1842683</th>\n",
       "      <td>0.0</td>\n",
       "      <td>POINT (16.96000 54.46000)</td>\n",
       "    </tr>\n",
       "    <tr>\n",
       "      <th>1847002</th>\n",
       "      <td>0.0</td>\n",
       "      <td>POINT (16.87000 54.38000)</td>\n",
       "    </tr>\n",
       "    <tr>\n",
       "      <th>1847003</th>\n",
       "      <td>0.0</td>\n",
       "      <td>POINT (16.96000 54.38000)</td>\n",
       "    </tr>\n",
       "  </tbody>\n",
       "</table>\n",
       "</div>"
      ],
      "text/plain": [
       "         data                   geometry\n",
       "1838363   0.0  POINT (16.96000 54.54000)\n",
       "1842682   0.0  POINT (16.87000 54.46000)\n",
       "1842683   0.0  POINT (16.96000 54.46000)\n",
       "1847002   0.0  POINT (16.87000 54.38000)\n",
       "1847003   0.0  POINT (16.96000 54.38000)"
      ]
     },
     "execution_count": 10,
     "metadata": {},
     "output_type": "execute_result"
    }
   ],
   "source": [
    "gdf_dict_gpd[\"Corn1\"].head()"
   ]
  },
  {
   "cell_type": "code",
   "execution_count": 11,
   "metadata": {},
   "outputs": [
    {
     "name": "stderr",
     "output_type": "stream",
     "text": [
      "/home/florian/local/anaconda3/envs/seaweed-growth-model/lib/python3.8/site-packages/IPython/core/interactiveshell.py:3338: FutureWarning: The `op` parameter is deprecated and will be removed in a future release. Please use the `predicate` parameter instead.\n",
      "  if await self.run_code(code, result, async_=asy):\n",
      "/tmp/ipykernel_21515/3462590336.py:2: UserWarning: CRS mismatch between the CRS of left geometries and the CRS of right geometries.\n",
      "Use `to_crs()` to reproject one of the input geometries to match the CRS of the other.\n",
      "\n",
      "Left CRS: None\n",
      "Right CRS: EPSG:4326\n",
      "\n",
      "  joined = gpd.sjoin(gdf_dict_gpd[\"Corn1\"], crop_geo, how=\"left\", op=\"intersects\")\n"
     ]
    },
    {
     "data": {
      "text/html": [
       "<div>\n",
       "<style scoped>\n",
       "    .dataframe tbody tr th:only-of-type {\n",
       "        vertical-align: middle;\n",
       "    }\n",
       "\n",
       "    .dataframe tbody tr th {\n",
       "        vertical-align: top;\n",
       "    }\n",
       "\n",
       "    .dataframe thead th {\n",
       "        text-align: right;\n",
       "    }\n",
       "</style>\n",
       "<table border=\"1\" class=\"dataframe\">\n",
       "  <thead>\n",
       "    <tr style=\"text-align: right;\">\n",
       "      <th></th>\n",
       "      <th>data</th>\n",
       "      <th>geometry</th>\n",
       "      <th>index_right</th>\n",
       "      <th>yield_area</th>\n",
       "    </tr>\n",
       "  </thead>\n",
       "  <tbody>\n",
       "    <tr>\n",
       "      <th>1838363</th>\n",
       "      <td>0.0</td>\n",
       "      <td>POINT (16.96000 54.54000)</td>\n",
       "      <td>NaN</td>\n",
       "      <td>NaN</td>\n",
       "    </tr>\n",
       "    <tr>\n",
       "      <th>1842682</th>\n",
       "      <td>0.0</td>\n",
       "      <td>POINT (16.87000 54.46000)</td>\n",
       "      <td>NaN</td>\n",
       "      <td>NaN</td>\n",
       "    </tr>\n",
       "    <tr>\n",
       "      <th>1842683</th>\n",
       "      <td>0.0</td>\n",
       "      <td>POINT (16.96000 54.46000)</td>\n",
       "      <td>NaN</td>\n",
       "      <td>NaN</td>\n",
       "    </tr>\n",
       "    <tr>\n",
       "      <th>1847002</th>\n",
       "      <td>0.0</td>\n",
       "      <td>POINT (16.87000 54.38000)</td>\n",
       "      <td>NaN</td>\n",
       "      <td>NaN</td>\n",
       "    </tr>\n",
       "    <tr>\n",
       "      <th>1847003</th>\n",
       "      <td>0.0</td>\n",
       "      <td>POINT (16.96000 54.38000)</td>\n",
       "      <td>NaN</td>\n",
       "      <td>NaN</td>\n",
       "    </tr>\n",
       "  </tbody>\n",
       "</table>\n",
       "</div>"
      ],
      "text/plain": [
       "         data                   geometry  index_right  yield_area\n",
       "1838363   0.0  POINT (16.96000 54.54000)          NaN         NaN\n",
       "1842682   0.0  POINT (16.87000 54.46000)          NaN         NaN\n",
       "1842683   0.0  POINT (16.96000 54.46000)          NaN         NaN\n",
       "1847002   0.0  POINT (16.87000 54.38000)          NaN         NaN\n",
       "1847003   0.0  POINT (16.96000 54.38000)          NaN         NaN"
      ]
     },
     "execution_count": 11,
     "metadata": {},
     "output_type": "execute_result"
    }
   ],
   "source": [
    "# spatial join of the crop data with the yield data\n",
    "joined = gpd.sjoin(gdf_dict_gpd[\"Corn1\"], crop_geo, how=\"left\", op=\"intersects\")\n",
    "joined.head()"
   ]
  },
  {
   "cell_type": "code",
   "execution_count": 12,
   "metadata": {},
   "outputs": [
    {
     "data": {
      "text/plain": [
       "nan"
      ]
     },
     "execution_count": 12,
     "metadata": {},
     "output_type": "execute_result"
    }
   ],
   "source": [
    "joined[\"yield_area\"].max()"
   ]
  },
  {
   "cell_type": "code",
   "execution_count": 7,
   "metadata": {},
   "outputs": [
    {
     "name": "stdout",
     "output_type": "stream",
     "text": [
      "Africa\n",
      "Corn 1\n",
      "Corn 2\n",
      "Soybean 1\n",
      "Soybean 2\n",
      "Wheat 1\n",
      "Wheat 2\n",
      "Rice 1\n",
      "Rice 2\n",
      "Asia\n",
      "Corn 1\n",
      "Corn 2\n",
      "Soybean 1\n",
      "Soybean 2\n",
      "Wheat 1\n",
      "Wheat 2\n",
      "Rice 1\n",
      "Rice 2\n",
      "Europe\n",
      "Corn 1\n",
      "Corn 2\n",
      "Soybean 1\n",
      "Soybean 2\n",
      "Wheat 1\n",
      "Wheat 2\n",
      "Rice 1\n",
      "Rice 2\n",
      "North America\n",
      "Corn 1\n",
      "Corn 2\n",
      "Soybean 1\n",
      "Soybean 2\n",
      "Wheat 1\n",
      "Wheat 2\n",
      "Rice 1\n",
      "Rice 2\n",
      "Oceania\n",
      "Corn 1\n",
      "Corn 2\n",
      "Soybean 1\n",
      "Soybean 2\n",
      "Wheat 1\n",
      "Wheat 2\n",
      "Rice 1\n",
      "Rice 2\n",
      "South America\n",
      "Corn 1\n",
      "Corn 2\n",
      "Soybean 1\n",
      "Soybean 2\n",
      "Wheat 1\n",
      "Wheat 2\n",
      "Rice 1\n",
      "Rice 2\n"
     ]
    }
   ],
   "source": [
    "region_yield_reduction_data = {\"region\":[], \"crop\":[], \"phase\":[], \"yield_reduction\":[]}\n",
    "crop_phases = [(crop, phase) for crop in crops for phase in phases]\n",
    "# Suppress the FutureWarning\n",
    "warnings.simplefilter(action='ignore', category=FutureWarning)\n",
    "\n",
    "for region in regions[\"CONTINENT\"]:\n",
    "    print(region)\n",
    "    region_subset = regions[regions['CONTINENT'] == region]\n",
    "    for crop, phase in crop_phases:\n",
    "        print(crop, phase)\n",
    "        region_yield_reduction_data[\"region\"].append(region)\n",
    "        region_yield_reduction_data[\"crop\"].append(crop)\n",
    "        region_yield_reduction_data[\"phase\"].append(phase)\n",
    "        yield_reduction = gdf_dict_gpd[crop + str(phase)].copy()\n",
    "        yield_reduction.crs = \"EPSG:4326\"\n",
    "\n",
    "        merged_gdf = gpd.sjoin(yield_reduction, region_subset, how=\"inner\", op=\"intersects\")\n",
    "        # Calculate average values by continent\n",
    "        merged_gdf[\"data\"] = merged_gdf[\"data\"] * 100\n",
    "        reduction = merged_gdf[\"data\"].mean()\n",
    "        region_yield_reduction_data[\"yield_reduction\"].append(reduction)\n",
    "\n",
    "region_yield_reduction = pd.DataFrame(region_yield_reduction_data)\n"
   ]
  },
  {
   "cell_type": "code",
   "execution_count": 8,
   "metadata": {},
   "outputs": [],
   "source": [
    "# change phase to string\n",
    "region_yield_reduction[\"phase\"] = region_yield_reduction[\"phase\"].astype(str)\n",
    "region_yield_reduction.columns = [\"Continent\", \"Crop\", \"Phase\", \"Yield Reduction (%)\"]\n"
   ]
  },
  {
   "cell_type": "code",
   "execution_count": 32,
   "metadata": {},
   "outputs": [
    {
     "data": {
      "text/plain": [
       "-55.43886947631836"
      ]
     },
     "execution_count": 32,
     "metadata": {},
     "output_type": "execute_result"
    }
   ],
   "source": [
    "region_yield_reduction[\"Yield Reduction (%)\"].min()"
   ]
  },
  {
   "cell_type": "code",
   "execution_count": 22,
   "metadata": {},
   "outputs": [
    {
     "data": {
      "text/html": [
       "<div>\n",
       "<style scoped>\n",
       "    .dataframe tbody tr th:only-of-type {\n",
       "        vertical-align: middle;\n",
       "    }\n",
       "\n",
       "    .dataframe tbody tr th {\n",
       "        vertical-align: top;\n",
       "    }\n",
       "\n",
       "    .dataframe thead th {\n",
       "        text-align: right;\n",
       "    }\n",
       "</style>\n",
       "<table border=\"1\" class=\"dataframe\">\n",
       "  <thead>\n",
       "    <tr style=\"text-align: right;\">\n",
       "      <th></th>\n",
       "      <th>Yield Reduction (%)</th>\n",
       "    </tr>\n",
       "    <tr>\n",
       "      <th>Phase</th>\n",
       "      <th></th>\n",
       "    </tr>\n",
       "  </thead>\n",
       "  <tbody>\n",
       "    <tr>\n",
       "      <th>1</th>\n",
       "      <td>-18.856674</td>\n",
       "    </tr>\n",
       "    <tr>\n",
       "      <th>2</th>\n",
       "      <td>-33.932205</td>\n",
       "    </tr>\n",
       "  </tbody>\n",
       "</table>\n",
       "</div>"
      ],
      "text/plain": [
       "       Yield Reduction (%)\n",
       "Phase                     \n",
       "1               -18.856674\n",
       "2               -33.932205"
      ]
     },
     "execution_count": 22,
     "metadata": {},
     "output_type": "execute_result"
    }
   ],
   "source": [
    "region_yield_reduction.groupby(\"Phase\").median()"
   ]
  },
  {
   "cell_type": "code",
   "execution_count": 24,
   "metadata": {},
   "outputs": [
    {
     "data": {
      "text/html": [
       "<div>\n",
       "<style scoped>\n",
       "    .dataframe tbody tr th:only-of-type {\n",
       "        vertical-align: middle;\n",
       "    }\n",
       "\n",
       "    .dataframe tbody tr th {\n",
       "        vertical-align: top;\n",
       "    }\n",
       "\n",
       "    .dataframe thead th {\n",
       "        text-align: right;\n",
       "    }\n",
       "</style>\n",
       "<table border=\"1\" class=\"dataframe\">\n",
       "  <thead>\n",
       "    <tr style=\"text-align: right;\">\n",
       "      <th></th>\n",
       "      <th>Yield Reduction (%)</th>\n",
       "    </tr>\n",
       "    <tr>\n",
       "      <th>Crop</th>\n",
       "      <th></th>\n",
       "    </tr>\n",
       "  </thead>\n",
       "  <tbody>\n",
       "    <tr>\n",
       "      <th>Corn</th>\n",
       "      <td>-24.521780</td>\n",
       "    </tr>\n",
       "    <tr>\n",
       "      <th>Rice</th>\n",
       "      <td>-27.526241</td>\n",
       "    </tr>\n",
       "    <tr>\n",
       "      <th>Soybean</th>\n",
       "      <td>-16.356991</td>\n",
       "    </tr>\n",
       "    <tr>\n",
       "      <th>Wheat</th>\n",
       "      <td>-26.874189</td>\n",
       "    </tr>\n",
       "  </tbody>\n",
       "</table>\n",
       "</div>"
      ],
      "text/plain": [
       "         Yield Reduction (%)\n",
       "Crop                        \n",
       "Corn              -24.521780\n",
       "Rice              -27.526241\n",
       "Soybean           -16.356991\n",
       "Wheat             -26.874189"
      ]
     },
     "execution_count": 24,
     "metadata": {},
     "output_type": "execute_result"
    }
   ],
   "source": [
    "region_yield_reduction.groupby([\"Crop\"]).mean()"
   ]
  },
  {
   "cell_type": "code",
   "execution_count": 11,
   "metadata": {},
   "outputs": [
    {
     "data": {
      "text/html": [
       "<div>\n",
       "<style scoped>\n",
       "    .dataframe tbody tr th:only-of-type {\n",
       "        vertical-align: middle;\n",
       "    }\n",
       "\n",
       "    .dataframe tbody tr th {\n",
       "        vertical-align: top;\n",
       "    }\n",
       "\n",
       "    .dataframe thead th {\n",
       "        text-align: right;\n",
       "    }\n",
       "</style>\n",
       "<table border=\"1\" class=\"dataframe\">\n",
       "  <thead>\n",
       "    <tr style=\"text-align: right;\">\n",
       "      <th></th>\n",
       "      <th></th>\n",
       "      <th>Yield Reduction (%)</th>\n",
       "    </tr>\n",
       "    <tr>\n",
       "      <th>Crop</th>\n",
       "      <th>Phase</th>\n",
       "      <th></th>\n",
       "    </tr>\n",
       "  </thead>\n",
       "  <tbody>\n",
       "    <tr>\n",
       "      <th rowspan=\"2\" valign=\"top\">Corn</th>\n",
       "      <th>1</th>\n",
       "      <td>-16.807473</td>\n",
       "    </tr>\n",
       "    <tr>\n",
       "      <th>2</th>\n",
       "      <td>-32.236088</td>\n",
       "    </tr>\n",
       "    <tr>\n",
       "      <th rowspan=\"2\" valign=\"top\">Rice</th>\n",
       "      <th>1</th>\n",
       "      <td>-24.697628</td>\n",
       "    </tr>\n",
       "    <tr>\n",
       "      <th>2</th>\n",
       "      <td>-30.354854</td>\n",
       "    </tr>\n",
       "    <tr>\n",
       "      <th rowspan=\"2\" valign=\"top\">Soybean</th>\n",
       "      <th>1</th>\n",
       "      <td>-8.213625</td>\n",
       "    </tr>\n",
       "    <tr>\n",
       "      <th>2</th>\n",
       "      <td>-24.500357</td>\n",
       "    </tr>\n",
       "    <tr>\n",
       "      <th rowspan=\"2\" valign=\"top\">Wheat</th>\n",
       "      <th>1</th>\n",
       "      <td>-20.461151</td>\n",
       "    </tr>\n",
       "    <tr>\n",
       "      <th>2</th>\n",
       "      <td>-33.287227</td>\n",
       "    </tr>\n",
       "  </tbody>\n",
       "</table>\n",
       "</div>"
      ],
      "text/plain": [
       "               Yield Reduction (%)\n",
       "Crop    Phase                     \n",
       "Corn    1               -16.807473\n",
       "        2               -32.236088\n",
       "Rice    1               -24.697628\n",
       "        2               -30.354854\n",
       "Soybean 1                -8.213625\n",
       "        2               -24.500357\n",
       "Wheat   1               -20.461151\n",
       "        2               -33.287227"
      ]
     },
     "execution_count": 11,
     "metadata": {},
     "output_type": "execute_result"
    }
   ],
   "source": [
    "region_yield_reduction.groupby([\"Crop\", \"Phase\"]).mean()"
   ]
  },
  {
   "cell_type": "code",
   "execution_count": 12,
   "metadata": {},
   "outputs": [
    {
     "data": {
      "text/html": [
       "<div>\n",
       "<style scoped>\n",
       "    .dataframe tbody tr th:only-of-type {\n",
       "        vertical-align: middle;\n",
       "    }\n",
       "\n",
       "    .dataframe tbody tr th {\n",
       "        vertical-align: top;\n",
       "    }\n",
       "\n",
       "    .dataframe thead th {\n",
       "        text-align: right;\n",
       "    }\n",
       "</style>\n",
       "<table border=\"1\" class=\"dataframe\">\n",
       "  <thead>\n",
       "    <tr style=\"text-align: right;\">\n",
       "      <th></th>\n",
       "      <th>Yield Reduction (%)</th>\n",
       "    </tr>\n",
       "    <tr>\n",
       "      <th>Continent</th>\n",
       "      <th></th>\n",
       "    </tr>\n",
       "  </thead>\n",
       "  <tbody>\n",
       "    <tr>\n",
       "      <th>Africa</th>\n",
       "      <td>-11.359229</td>\n",
       "    </tr>\n",
       "    <tr>\n",
       "      <th>Asia</th>\n",
       "      <td>-21.022537</td>\n",
       "    </tr>\n",
       "    <tr>\n",
       "      <th>Europe</th>\n",
       "      <td>-25.153289</td>\n",
       "    </tr>\n",
       "    <tr>\n",
       "      <th>North America</th>\n",
       "      <td>-30.222980</td>\n",
       "    </tr>\n",
       "    <tr>\n",
       "      <th>Oceania</th>\n",
       "      <td>-35.901519</td>\n",
       "    </tr>\n",
       "    <tr>\n",
       "      <th>South America</th>\n",
       "      <td>-24.145380</td>\n",
       "    </tr>\n",
       "  </tbody>\n",
       "</table>\n",
       "</div>"
      ],
      "text/plain": [
       "               Yield Reduction (%)\n",
       "Continent                         \n",
       "Africa                  -11.359229\n",
       "Asia                    -21.022537\n",
       "Europe                  -25.153289\n",
       "North America           -30.222980\n",
       "Oceania                 -35.901519\n",
       "South America           -24.145380"
      ]
     },
     "execution_count": 12,
     "metadata": {},
     "output_type": "execute_result"
    }
   ],
   "source": [
    "region_yield_reduction.groupby([\"Continent\"]).mean()"
   ]
  },
  {
   "cell_type": "code",
   "execution_count": 13,
   "metadata": {},
   "outputs": [
    {
     "data": {
      "text/html": [
       "<div>\n",
       "<style scoped>\n",
       "    .dataframe tbody tr th:only-of-type {\n",
       "        vertical-align: middle;\n",
       "    }\n",
       "\n",
       "    .dataframe tbody tr th {\n",
       "        vertical-align: top;\n",
       "    }\n",
       "\n",
       "    .dataframe thead th {\n",
       "        text-align: right;\n",
       "    }\n",
       "</style>\n",
       "<table border=\"1\" class=\"dataframe\">\n",
       "  <thead>\n",
       "    <tr style=\"text-align: right;\">\n",
       "      <th></th>\n",
       "      <th></th>\n",
       "      <th>Yield Reduction (%)</th>\n",
       "    </tr>\n",
       "    <tr>\n",
       "      <th>Continent</th>\n",
       "      <th>Phase</th>\n",
       "      <th></th>\n",
       "    </tr>\n",
       "  </thead>\n",
       "  <tbody>\n",
       "    <tr>\n",
       "      <th rowspan=\"2\" valign=\"top\">Africa</th>\n",
       "      <th>1</th>\n",
       "      <td>-9.825578</td>\n",
       "    </tr>\n",
       "    <tr>\n",
       "      <th>2</th>\n",
       "      <td>-12.892880</td>\n",
       "    </tr>\n",
       "    <tr>\n",
       "      <th rowspan=\"2\" valign=\"top\">Asia</th>\n",
       "      <th>1</th>\n",
       "      <td>-18.792271</td>\n",
       "    </tr>\n",
       "    <tr>\n",
       "      <th>2</th>\n",
       "      <td>-23.252804</td>\n",
       "    </tr>\n",
       "    <tr>\n",
       "      <th rowspan=\"2\" valign=\"top\">Europe</th>\n",
       "      <th>1</th>\n",
       "      <td>-16.714420</td>\n",
       "    </tr>\n",
       "    <tr>\n",
       "      <th>2</th>\n",
       "      <td>-33.592157</td>\n",
       "    </tr>\n",
       "    <tr>\n",
       "      <th rowspan=\"2\" valign=\"top\">North America</th>\n",
       "      <th>1</th>\n",
       "      <td>-21.130984</td>\n",
       "    </tr>\n",
       "    <tr>\n",
       "      <th>2</th>\n",
       "      <td>-39.314976</td>\n",
       "    </tr>\n",
       "    <tr>\n",
       "      <th rowspan=\"2\" valign=\"top\">Oceania</th>\n",
       "      <th>1</th>\n",
       "      <td>-27.518324</td>\n",
       "    </tr>\n",
       "    <tr>\n",
       "      <th>2</th>\n",
       "      <td>-44.284715</td>\n",
       "    </tr>\n",
       "    <tr>\n",
       "      <th rowspan=\"2\" valign=\"top\">South America</th>\n",
       "      <th>1</th>\n",
       "      <td>-16.114413</td>\n",
       "    </tr>\n",
       "    <tr>\n",
       "      <th>2</th>\n",
       "      <td>-32.176347</td>\n",
       "    </tr>\n",
       "  </tbody>\n",
       "</table>\n",
       "</div>"
      ],
      "text/plain": [
       "                     Yield Reduction (%)\n",
       "Continent     Phase                     \n",
       "Africa        1                -9.825578\n",
       "              2               -12.892880\n",
       "Asia          1               -18.792271\n",
       "              2               -23.252804\n",
       "Europe        1               -16.714420\n",
       "              2               -33.592157\n",
       "North America 1               -21.130984\n",
       "              2               -39.314976\n",
       "Oceania       1               -27.518324\n",
       "              2               -44.284715\n",
       "South America 1               -16.114413\n",
       "              2               -32.176347"
      ]
     },
     "execution_count": 13,
     "metadata": {},
     "output_type": "execute_result"
    }
   ],
   "source": [
    "region_yield_reduction.groupby([\"Continent\", \"Phase\"]).mean()"
   ]
  },
  {
   "cell_type": "code",
   "execution_count": 14,
   "metadata": {},
   "outputs": [
    {
     "data": {
      "image/png": "[encoded data removed]",
      "text/plain": [
       "<Figure size 1288.25x1800 with 6 Axes>"
      ]
     },
     "metadata": {},
     "output_type": "display_data"
    }
   ],
   "source": [
    "\n",
    "\n",
    "plt.style.use(\"https://raw.githubusercontent.com/allfed/ALLFED-matplotlib-style-sheet/main/ALLFED.mplstyle\")\n",
    "# Set up the figure and subplots\n",
    "g = sns.catplot(\n",
    "        data=region_yield_reduction,\n",
    "        x='Crop',\n",
    "        y='Yield Reduction (%)',\n",
    "        col=\"Continent\",\n",
    "        hue='Phase',\n",
    "        kind='bar',\n",
    "        height=4,\n",
    "        aspect=1,\n",
    "        col_wrap=2,\n",
    "        palette= ['#F0B323', '#DC582A']\n",
    "    )\n",
    "\n",
    "# Set the titles for each subplot\n",
    "for ax in g.axes.flat:\n",
    "    region = ax.get_title().split(' = ')[1]\n",
    "    ax.set_title(region)\n",
    "    ax.set_ylim(-100, 0)\n",
    "    ax.set_ylabel(\"Yield Reduction (%)\")\n",
    "    ax.set_xlabel(\"\")\n",
    "    # Hide borders\n",
    "    ax.spines[\"bottom\"].set_visible(False)\n",
    "    ax.spines[\"left\"].set_visible(False)\n",
    "    # Set the legend title\n",
    "\n",
    "# Adjust the spacing between subplots\n",
    "g.fig.tight_layout(pad=2)\n",
    "\n",
    "# Show the plot\n",
    "plt.savefig(\"../\" + os.sep + \"reports\" + os.sep + \"figures\" + os.sep + \"yield_reduction_by_region.png\", dpi=300, bbox_inches='tight')"
   ]
  }
 ],
 "metadata": {
  "kernelspec": {
   "display_name": "seaweed-growth-model",
   "language": "python",
   "name": "python3"
  },
  "language_info": {
   "codemirror_mode": {
    "name": "ipython",
    "version": 3
   },
   "file_extension": ".py",
   "mimetype": "text/x-python",
   "name": "python",
   "nbconvert_exporter": "python",
   "pygments_lexer": "ipython3",
   "version": "3.8.13"
  },
  "orig_nbformat": 4
 },
 "nbformat": 4,
 "nbformat_minor": 2
}
