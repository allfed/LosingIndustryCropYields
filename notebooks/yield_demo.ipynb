{
  "nbformat": 4,
  "nbformat_minor": 0,
  "metadata": {
    "colab": {
      "name": "yield_demo.ipynb",
      "provenance": [],
      "include_colab_link": true
    },
    "kernelspec": {
      "display_name": "Python 3",
      "language": "python",
      "name": "python3"
    },
    "language_info": {
      "codemirror_mode": {
        "name": "ipython",
        "version": 3
      },
      "file_extension": ".py",
      "mimetype": "text/x-python",
      "name": "python",
      "nbconvert_exporter": "python",
      "pygments_lexer": "ipython3",
      "version": "3.8.5"
    }
  },
  "cells": [
    {
      "cell_type": "markdown",
      "metadata": {
        "id": "view-in-github",
        "colab_type": "text"
      },
      "source": [
        "<a href=\"https://colab.research.google.com/github/allfed/CropOpt/blob/standardize/notebooks/yield_demo.ipynb\" target=\"_parent\"><img src=\"https://colab.research.google.com/assets/colab-badge.svg\" alt=\"Open In Colab\"/></a>"
      ]
    },
    {
      "cell_type": "markdown",
      "metadata": {
        "id": "EF4HZ38K9CWc"
      },
      "source": [
        "# Setup (only run this section if using Colab)"
      ]
    },
    {
      "cell_type": "code",
      "metadata": {
        "id": "IzDrJNUQ7OMm"
      },
      "source": [
        "# We must clone the code repo into your Colab environment in order to use it.\n",
        "# To do this we must first connect your GitHub account via the command line.\n",
        "# Run this block, and hit Enter on each prompt, not entering any text.\n",
        "# This generates an SSH key which you'll add to your GitHub account.\n",
        "!ssh-keygen -t rsa -b 4096"
      ],
      "execution_count": null,
      "outputs": []
    },
    {
      "cell_type": "code",
      "metadata": {
        "id": "dCB7z9UI8qpo"
      },
      "source": [
        "|!ssh-keyscan -t rsa github.com >> ~/.ssh/known_hosts"
      ],
      "execution_count": null,
      "outputs": []
    },
    {
      "cell_type": "code",
      "metadata": {
        "id": "0vBrKY4E7YcJ"
      },
      "source": [
        "# This line prints the key. Copy the key to your clipboard.\n",
        "!cat /root/.ssh/id_rsa.pub"
      ],
      "execution_count": null,
      "outputs": []
    },
    {
      "cell_type": "code",
      "metadata": {
        "id": "lUAL7sgQ7YP2"
      },
      "source": [
        "# Now, navigate to https://github.com/settings/keys and click \"New SSH key\"\n",
        "# Copy paste the above into the \"Key\" field, and give it a title, e.g. \"Colab key\",\n",
        "# then save the key. Once done, test using this line:\n",
        "!ssh -T git@github.com"
      ],
      "execution_count": null,
      "outputs": []
    },
    {
      "cell_type": "code",
      "metadata": {
        "id": "LfMd3MDk68Ao"
      },
      "source": [
        "## Now we can clone the repo using SSH\n",
        "!rm -rf CropOpt/\n",
        "!git clone -b standardize git@github.com:allfed/CropOpt.git"
      ],
      "execution_count": null,
      "outputs": []
    },
    {
      "cell_type": "code",
      "metadata": {
        "id": "kIbtwVp1Epqf"
      },
      "source": [
        "# This adds the Python files in our CropOpt repo to our path so we can import\n",
        "# them\n",
        "\n",
        "import os\n",
        "import sys\n",
        "\n",
        "module_path = os.path.abspath(os.path.join('./CropOpt'))\n",
        "if module_path not in sys.path:\n",
        "    sys.path.append(module_path) "
      ],
      "execution_count": null,
      "outputs": []
    },
    {
      "cell_type": "code",
      "metadata": {
        "id": "t5cQ7Vpu-okC"
      },
      "source": [
        "# Now we'll install other dependencies from our Poetry file. We do this by first\n",
        "# installing the toml package so we can read the pyproject.toml file\n",
        "!pip install toml"
      ],
      "execution_count": null,
      "outputs": []
    },
    {
      "cell_type": "code",
      "metadata": {
        "id": "7FWKkIMMMJ6j"
      },
      "source": [
        "# We then load the file and read our required packages from it\n",
        "import toml\n",
        "config = toml.load(\"CropOpt/pyproject.toml\")\n",
        "pip_packages = config[\"tool\"][\"poetry\"][\"dependencies\"]"
      ],
      "execution_count": null,
      "outputs": []
    },
    {
      "cell_type": "code",
      "metadata": {
        "id": "_6m7JHEANNcK"
      },
      "source": [
        "# Finally, we install the packages\n",
        "\n",
        "import subprocess\n",
        "import sys\n",
        "\n",
        "def install_pip_package(package, version):\n",
        "    subprocess.check_call([sys.executable, \"-m\", \"pip\", \"install\", f\"{package}=={version}\"])\n",
        "\n",
        "for package, version in pip_packages.items():\n",
        "    if package == \"python\":\n",
        "        continue\n",
        "    install_pip_package(package, version[1:])"
      ],
      "execution_count": null,
      "outputs": []
    },
    {
      "cell_type": "markdown",
      "metadata": {
        "id": "_0qfpqXB4b_j"
      },
      "source": [
        "# Yield calculation demo"
      ]
    },
    {
      "cell_type": "markdown",
      "metadata": {
        "id": "EEL1Pg_54jfe"
      },
      "source": [
        "The purpose of this file is to generate yields for spring wheat and spring barley, along with nutrition, and spits out a couple plots and a csv file at the end of the file. I can't emphasize enough that you should take a look at Params.ods  to understand the inputs to the model. Params.ods is a spreadsheet, you can open it with excel or open office. Also reach out to morgan@allfed.info if you have questions about this code.\n",
        "\n",
        "First, let's import a few dependencies. \n",
        " * Params: Custom script which imports parameters from Params.ods file\n",
        "     * Params.ods is as spreadsheet file located here: https://github.com/allfed/CropOpt/Params.ods\n",
        "     * based on Adin's collaboration document here: https://docs.google.com/spreadsheets/d/1Mh7bmZYHypN7bSmejCyu4hkbolQ3MRANc3LhflwRZoA/edit#gid=0\n",
        " * Plotter: utility for displaying geopandas maps and plots\n",
        " * pandas, geopandas: Data analysis and GIS packages\n",
        "     * some basic things you can do with pandas: https://pandas.pydata.org/docs/getting_started/intro_tutorials/03_subset_data.html\n",
        "     * some basic things you can do with geopandas: https://geopandas.org/getting_started/introduction.html\n",
        "     \n",
        " * OutdoorGrowth: Custom class which contains several useful functions for outdoor growth calculations\n",
        "     * if you want to understand what the model is doing to calculate yields, you need to read through OutdoorGrowth code, located here:https://github.com/allfed/CropOpt/tree/master/Modules"
      ]
    },
    {
      "cell_type": "code",
      "metadata": {
        "id": "KuZI2xuaP3Dh"
      },
      "source": [
        "import os\n",
        "import sys\n",
        "module_path = os.path.abspath(os.path.join('..'))\n",
        "if module_path not in sys.path:\n",
        "    sys.path.append(module_path)"
      ],
      "execution_count": null,
      "outputs": []
    },
    {
      "cell_type": "code",
      "metadata": {
        "id": "WLnjHxAy4JPE"
      },
      "source": [
        "from src import params\n",
        "from src.plotter import Plotter\n",
        "from src import outdoor_growth\n",
        "from src.outdoor_growth import OutdoorGrowth\n",
        "import pandas as pd\n",
        "import geopandas as gpd"
      ],
      "execution_count": null,
      "outputs": []
    },
    {
      "cell_type": "markdown",
      "metadata": {
        "id": "ryY13Hp0P3Di"
      },
      "source": [
        "Now, let's import a bunch of previously created geopandas datasets"
      ]
    },
    {
      "cell_type": "code",
      "metadata": {
        "id": "9-N4WzdX6vmc"
      },
      "source": [
        "params.importAll()\n",
        "\n",
        "# NOTE - \"CropOpt\" is the correct suffix when in Colab, otherwise change to \"../\"\n",
        "\n",
        "#total solar flux at surface , W/m^2\n",
        "fsns=pd.read_pickle(\"CropOpt/\" + params.geopandasDataDir + 'FSNS.pkl')\n",
        "\n",
        "#surface temperature, K\n",
        "ts=pd.read_pickle(\"CropOpt/\" + params.geopandasDataDir+'TS.pkl')\n",
        "\n",
        "#Large-scale (stable) precipitation rate, including ice precipitate but not \n",
        "#snow, m/s\n",
        "precl=pd.read_pickle(\"CropOpt/\" + params.geopandasDataDir+'PRECL.pkl')\n",
        "\n",
        "#absolute humidity at surface, kg/kg\n",
        "q=pd.read_pickle(\"CropOpt/\" + params.geopandasDataDir+'Q.pkl')\n",
        "\n",
        "#crop area, Ha\n",
        "growArea=pd.read_pickle(\"CropOpt/\" + params.geopandasDataDir+'CropGrowHectares.pkl')"
      ],
      "execution_count": null,
      "outputs": []
    },
    {
      "cell_type": "markdown",
      "metadata": {
        "id": "GI1y6EHRP3Di"
      },
      "source": [
        "Taking a look at sun, temperature, and rain, we see latitude and longitude, each month after the winter is defined in a column, and the cell geometry is displayed (in this case, a 2 degree by 2 degree square). The first few cells are all at the south pole, so it's unsurprising that they show strange values.\n",
        "\n",
        "The default months in the Params.ods are May year 5- April year 6 (first and second year of simulation). \n",
        "\n",
        "The average temperature coefficient hottest consecutive months required to grow each crop in each region are used to estimate temperature and rainfall growth parameters.\n",
        "\n",
        "There's an issue with the import for april of year six, for temperature. "
      ]
    },
    {
      "cell_type": "code",
      "metadata": {
        "id": "GYs3ynMvP3Dj"
      },
      "source": [
        "fsns.head() #sun, W/m^2"
      ],
      "execution_count": null,
      "outputs": []
    },
    {
      "cell_type": "code",
      "metadata": {
        "id": "Ncl-IRq3P3Dj"
      },
      "source": [
        "ts.head() #temp, kelvin"
      ],
      "execution_count": null,
      "outputs": []
    },
    {
      "cell_type": "code",
      "metadata": {
        "id": "ejlRh4quP3Dk"
      },
      "source": [
        "precl.head() #rain, average m/s over the month"
      ],
      "execution_count": null,
      "outputs": []
    },
    {
      "cell_type": "markdown",
      "metadata": {
        "id": "a71Wm8RSP3Dk"
      },
      "source": [
        "The grow area is shown below using hectares. Note it is only calculated for one month as it's assumed to be unchanging for now."
      ]
    },
    {
      "cell_type": "code",
      "metadata": {
        "id": "cuExVQspP3Dk"
      },
      "source": [
        "growArea.head()"
      ],
      "execution_count": null,
      "outputs": []
    },
    {
      "cell_type": "code",
      "metadata": {
        "id": "-R31lYCzP3Dk"
      },
      "source": [
        "q.head()"
      ],
      "execution_count": null,
      "outputs": []
    },
    {
      "cell_type": "markdown",
      "metadata": {
        "id": "pfEPfMvcP3Dk"
      },
      "source": [
        "Let's also look at the values for some of the Params.ods variable values. It's important to be able to modify these if you want to be able to improve the cropOpt model. Make sure to restart the Jupyter kernel to reimport changes to params variables. The code below is looping through all the cells and all the months, so it might take a few minutes, depending on your machine.\n",
        "\n",
        "Again, there appear to be issues with april of year 6 (second year of winter), and also possibly september year 5 (first year of winter)."
      ]
    },
    {
      "cell_type": "code",
      "metadata": {
        "id": "_hGc6jDBP3Dl"
      },
      "source": [
        "allMonths=params.allMonths\n",
        "\n",
        "#initialize object of outdoor growth class\n",
        "outdoorGrowth=OutdoorGrowth()"
      ],
      "execution_count": null,
      "outputs": []
    },
    {
      "cell_type": "code",
      "metadata": {
        "id": "0FGUeggJP3Dl"
      },
      "source": [
        "plotYields = True\n",
        "yields = outdoorGrowth.estimateYields(ts,precl,growArea,plotYields)"
      ],
      "execution_count": null,
      "outputs": []
    },
    {
      "cell_type": "markdown",
      "metadata": {
        "id": "XyOKuN1iP3Dl"
      },
      "source": [
        "Plots above are saved here: https://github.com/allfed/CropOpt/tree/master/Data/Figures"
      ]
    },
    {
      "cell_type": "markdown",
      "metadata": {
        "id": "mjjOEPHoP3Dl"
      },
      "source": [
        "Below, we generate the remaining plots of the figures for all months of the simulation. This will take several minutes to run. To disable some of the plots, you can set the booleans plotGrowArea,plotsun,plotTemp,plotRain,or plotHum to false."
      ]
    },
    {
      "cell_type": "code",
      "metadata": {
        "id": "r3bJ91w1P3Dl"
      },
      "source": [
        "plotSun=True\n",
        "plotTemp=True\n",
        "plotRain=True\n",
        "plotHum=True\n",
        "\n",
        "print('Producing Sun Figures')\n",
        "for month in allMonths:\n",
        "\ttitle=\"Solar Flux at Surface, month \"+month\n",
        "\tlegendlabel=\"Solar Flux (W/m^2)\"\n",
        "\tfn=\"SolarFlux\"+month\n",
        "\tPlotter.plotMap(fsns,month,title,legendlabel,fn,plotSun)\n",
        "\n",
        "print('Producing Temp Figures')\n",
        "for month in allMonths:\n",
        "\ttitle=\"Surface (radiative) Temperature, month \"+month\n",
        "\tlegendlabel=\"Temperature (K)\"\n",
        "\tfn=\"SurfaceTemp\"+month\n",
        "\tPlotter.plotMap(ts,month,title,legendlabel,fn,plotTemp)\n",
        "\n",
        "print('Producing Rain Figures')\n",
        "for month in allMonths:\n",
        "\ttitle=\"Precipitation \"+month\n",
        "\tlegendlabel=\"Precipitation (m/s)\"\n",
        "\tfn=\"Precipitation\"+month\n",
        "\tPlotter.plotMap(precl,month,title,legendlabel,fn,plotRain)\n",
        "\n",
        "print('Producing Humidity Figures')\n",
        "for month in allMonths:\n",
        "\ttitle=\"Humidity \"+month\n",
        "\tlegendlabel=\"Humidity (kg/kg)\"\n",
        "\tfn=\"Humidity\"+month\n",
        "\tPlotter.plotMap(q,month,title,legendlabel,fn,plotHum)\n"
      ],
      "execution_count": null,
      "outputs": []
    },
    {
      "cell_type": "markdown",
      "metadata": {
        "id": "sCPNDEq2P3Dm"
      },
      "source": [
        "Plots above are saved here: https://github.com/allfed/CropOpt/tree/master/Data/Figures\n",
        "\n",
        "If you're interested in reproducing a CSV of many of the variables, you can call the function below:"
      ]
    },
    {
      "cell_type": "code",
      "metadata": {
        "id": "2mYniyzqP3Dm"
      },
      "source": [
        "outdoorGrowth.saveLandSunHumRainCSV(ts,q,fsns,precl,growArea)"
      ],
      "execution_count": null,
      "outputs": []
    }
  ]
}